{
 "cells": [
  {
   "cell_type": "markdown",
   "id": "b139efab",
   "metadata": {},
   "source": [
    "# ML Classifiers: KNN Optimizing\n",
    "\n",
    "### Contents:\n",
    "\n",
    "**Machine Learning Classifiers:** KNN\n",
    "\n",
    "**Feature Selection:** Kendalltau\n",
    "\n",
    "**Resample Method:** Random Over Resampling"
   ]
  },
  {
   "cell_type": "code",
   "execution_count": 1,
   "id": "78f7127e",
   "metadata": {},
   "outputs": [
    {
     "name": "stdout",
     "output_type": "stream",
     "text": [
      "CPU times: total: 2.3 s\n",
      "Wall time: 2.8 s\n"
     ]
    }
   ],
   "source": [
    "%%time\n",
    "\n",
    "# import necessary dependencies\n",
    "import os\n",
    "import re\n",
    "import gc\n",
    "\n",
    "import time\n",
    "\n",
    "import pandas as pd\n",
    "import numpy as np\n",
    "pd.set_option(\"display.max_rows\", 200)\n",
    "pd.set_option(\"display.max_columns\", None)\n",
    "np.random.seed(42)\n",
    "\n",
    "import matplotlib.pyplot as plt\n",
    "import seaborn as sns\n",
    "%matplotlib inline\n",
    "sns.set_theme(style = \"whitegrid\", palette = \"pastel\")\n",
    "\n",
    "from warnings import simplefilter\n",
    "simplefilter(action = \"ignore\", category = FutureWarning)\n",
    "simplefilter(action = \"ignore\", category = DeprecationWarning)\n",
    "\n",
    "# _______________________________________________________________ #\n",
    "\n",
    "from sklearn.model_selection import train_test_split, KFold, GridSearchCV\n",
    "\n",
    "from imblearn.over_sampling import RandomOverSampler\n",
    "\n",
    "from sklearn.preprocessing import StandardScaler, label_binarize\n",
    "\n",
    "from sklearn.metrics import classification_report\n",
    "from sklearn.metrics import accuracy_score, balanced_accuracy_score\n",
    "from sklearn.metrics import f1_score, precision_score, recall_score\n",
    "from sklearn.metrics import precision_recall_curve\n",
    "from sklearn.metrics import roc_auc_score, roc_curve, auc\n",
    "from sklearn.metrics import confusion_matrix"
   ]
  },
  {
   "cell_type": "code",
   "execution_count": 2,
   "id": "4dc4afe2",
   "metadata": {},
   "outputs": [],
   "source": [
    "from sklearn.neighbors import KNeighborsClassifier"
   ]
  },
  {
   "cell_type": "code",
   "execution_count": 3,
   "id": "967533e9",
   "metadata": {},
   "outputs": [
    {
     "name": "stdout",
     "output_type": "stream",
     "text": [
      "CPU times: total: 0 ns\n",
      "Wall time: 998 µs\n"
     ]
    }
   ],
   "source": [
    "%%time\n",
    "\n",
    "# config directories\n",
    "detected_dir = \"F:\\FURP\\#Single Family Loan Level Classification\\Sample_orig\\Mean-Target_Detected_Samples\"\n",
    "\n",
    "plots_dir = \"F:\\FURP\\#Single Family Loan Level Classification\\Sample_orig\\Opt_Plots\"\n",
    "\n",
    "# config file paths\n",
    "detected_paths = os.listdir(detected_dir)\n",
    "\n",
    "# config necessary global variables\n",
    "model_name = \"KNN+Kendall+Random-Optimized\"\n",
    "kbest = [\n",
    "    \"First Payment Date\",\n",
    "    \"Maturity Date\",\n",
    "    \"Metropolitan Statistical Area (MSA) Or Metropolitan Division\",\n",
    "    \"Mortgage Insurance Percentage (MI %)\",\n",
    "    \"Number of Units\",\n",
    "    \"Original Combined Loan-to-Value (CLTV)\",\n",
    "    \"Original Debt-to-Income (DTI) Ratio\",\n",
    "    \"Original UPB\",\n",
    "    \"Original Loan-to-Value (LTV)\",\n",
    "    \"Original Interest Rate\",\n",
    "    \"Postal Code\",\n",
    "    \"Original Loan Term\",\n",
    "    \"Number of Borrowers\",\n",
    "    \"Property Valuation Method\",\n",
    "    \"First Payment Year\",\n",
    "    \"Maturity Year\",\n",
    "    \"Month Gap\",\n",
    "    \"First Time Homebuyer Flag_1\",\n",
    "    \"First Time Homebuyer Flag_2\",\n",
    "    \"First Time Homebuyer Flag_3\",\n",
    "    \"Occupancy Status_1\",\n",
    "    \"Occupancy Status_2\",\n",
    "    \"Occupancy Status_3\",\n",
    "    \"Channel_1\",\n",
    "    \"Channel_2\",\n",
    "    \"Channel_3\",\n",
    "    \"Prepayment Penalty Mortgage (PPM) Flag_1\",\n",
    "    \"Prepayment Penalty Mortgage (PPM) Flag_2\",\n",
    "    \"Prepayment Penalty Mortgage (PPM) Flag_3\",\n",
    "    \"Property Type_1\",\n",
    "    \"Property Type_2\",\n",
    "    \"Property Type_3\",\n",
    "    \"Loan Purpose_1\",\n",
    "    \"Loan Purpose_2\",\n",
    "    \"Loan Purpose_3\",\n",
    "    \"Seller Name_1\",\n",
    "    \"Seller Name_2\",\n",
    "    \"Seller Name_3\",\n",
    "    \"Servicer Name_1\",\n",
    "    \"Servicer Name_2\",\n",
    "    \"Servicer Name_3\",\n",
    "    \"Program Indicator_1\",\n",
    "    \"Program Indicator_2\",\n",
    "    \"Program Indicator_3\",\n",
    "]"
   ]
  },
  {
   "cell_type": "code",
   "execution_count": 4,
   "id": "f90254ab",
   "metadata": {},
   "outputs": [
    {
     "name": "stdout",
     "output_type": "stream",
     "text": [
      "CPU times: total: 10.1 s\n",
      "Wall time: 10.3 s\n"
     ]
    }
   ],
   "source": [
    "%%time\n",
    "\n",
    "# walk through the files\n",
    "df = pd.DataFrame()\n",
    "\n",
    "for fileName in detected_paths:\n",
    "    temp = pd.read_parquet(os.path.join(detected_dir, fileName))\n",
    "    df = pd.concat([df, temp])\n",
    "    del temp\n",
    "    gc.collect()\n",
    "\n",
    "# data preprocessing\n",
    "if kbest is None:\n",
    "    X = df.drop(\"Credit Rank\", axis = 1)\n",
    "else:\n",
    "    X = df[kbest]\n",
    "\n",
    "Y = df[\"Credit Rank\"]\n",
    "\n",
    "del df\n",
    "gc.collect()\n",
    "X_cols = X.columns\n",
    "\n",
    "# train test split\n",
    "X_train, X_test, Y_train, Y_test = train_test_split(X, Y,\n",
    "                                                    test_size = 0.2,\n",
    "                                                    random_state = 42)\n",
    "del X\n",
    "del Y\n",
    "gc.collect()\n",
    "\n",
    "# apply random oversampling\n",
    "ros = RandomOverSampler(random_state = 42)\n",
    "X_train, Y_train = ros.fit_resample(X_train, Y_train)\n",
    "\n",
    "# apply feature scaling\n",
    "sc = StandardScaler()\n",
    "sc_scaler = sc.fit(X_train)\n",
    "X_train = sc_scaler.transform(X_train)\n",
    "X_train = pd.DataFrame(X_train, columns = X_cols)\n",
    "\n",
    "X_test = sc_scaler.transform(X_test)\n",
    "X_test = pd.DataFrame(X_test, columns = X_cols)"
   ]
  },
  {
   "cell_type": "code",
   "execution_count": null,
   "id": "7c8ab88b",
   "metadata": {},
   "outputs": [
    {
     "name": "stdout",
     "output_type": "stream",
     "text": [
      "Fitting 5 folds for each of 4 candidates, totalling 20 fits\n",
      "[CV 1/5] END n_neighbors=3, p=1, weights=distance;, score=0.845 total time=71.9min\n",
      "[CV 2/5] END n_neighbors=3, p=1, weights=distance;, score=0.844 total time=72.2min\n",
      "[CV 3/5] END n_neighbors=3, p=1, weights=distance;, score=0.868 total time=72.2min\n",
      "[CV 4/5] END n_neighbors=3, p=1, weights=distance;, score=0.872 total time=72.3min\n",
      "[CV 5/5] END n_neighbors=3, p=1, weights=distance;, score=0.872 total time=72.3min\n",
      "[CV 1/5] END n_neighbors=3, p=2, weights=distance;, score=0.843 total time=15.3min\n",
      "[CV 2/5] END n_neighbors=3, p=2, weights=distance;, score=0.844 total time=15.2min\n",
      "[CV 3/5] END n_neighbors=3, p=2, weights=distance;, score=0.866 total time=15.3min\n",
      "[CV 4/5] END n_neighbors=3, p=2, weights=distance;, score=0.871 total time=15.3min\n",
      "[CV 5/5] END n_neighbors=3, p=2, weights=distance;, score=0.871 total time=15.2min\n"
     ]
    }
   ],
   "source": [
    "%%time\n",
    "\n",
    "# KNN Classifier\n",
    "knn_clf = KNeighborsClassifier()\n",
    "\n",
    "param_grid = {\n",
    "    \"n_neighbors\": [3],\n",
    "    \"weights\": [\"distance\"],\n",
    "    \"p\": [1, 2, 3, 4]\n",
    "}\n",
    "\n",
    "knn_opt = GridSearchCV(\n",
    "    knn_clf,\n",
    "    param_grid,\n",
    "    scoring = \"accuracy\",\n",
    "    verbose = 3\n",
    ")\n",
    "\n",
    "knn_opt.fit(X_train, Y_train)"
   ]
  },
  {
   "cell_type": "code",
   "execution_count": null,
   "id": "381d9170",
   "metadata": {},
   "outputs": [],
   "source": [
    "%%time\n",
    "\n",
    "print(knn_opt.get_params().keys())\n",
    "print()\n",
    "print(knn_opt.best_params_)\n",
    "print()\n",
    "print(knn_opt)"
   ]
  },
  {
   "cell_type": "markdown",
   "id": "a98b7740",
   "metadata": {},
   "source": [
    "---"
   ]
  }
 ],
 "metadata": {
  "kernelspec": {
   "display_name": "Python 3 (ipykernel)",
   "language": "python",
   "name": "python3"
  },
  "language_info": {
   "codemirror_mode": {
    "name": "ipython",
    "version": 3
   },
   "file_extension": ".py",
   "mimetype": "text/x-python",
   "name": "python",
   "nbconvert_exporter": "python",
   "pygments_lexer": "ipython3",
   "version": "3.9.12"
  }
 },
 "nbformat": 4,
 "nbformat_minor": 5
}
