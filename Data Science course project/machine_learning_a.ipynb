{
  "cells": [
    {
      "cell_type": "markdown",
      "metadata": {
        "id": "rmCsMjGyqCP3"
      },
      "source": [
        "# Project 5: Model Performance and Comparison"
      ]
    },
    {
      "cell_type": "markdown",
      "metadata": {
        "id": "DEK_A9NwqCP4"
      },
      "source": [
        "## Part A.1: Machine Learning Implementation\n",
        "In this part, you will implement three classifical learning methods, as well as the train-test split and cross validation procedures. Note that **you are not allowed to use sklearn in this notebook**; you will receive a 0 for Part A if any sklearn package is present. Try to use Numpy vectorized operations whenever possible, otherwise your code will exceed the runtime threshold."
      ]
    },
    {
      "cell_type": "code",
      "execution_count": null,
      "metadata": {
        "id": "7qAdpdJbqCP4"
      },
      "outputs": [],
      "source": [
        "import seaborn as sns\n",
        "import scipy.sparse as sp\n",
        "import pandas as pd\n",
        "import numpy as np\n",
        "import matplotlib.pyplot as plt"
      ]
    },
    {
      "cell_type": "code",
      "execution_count": null,
      "metadata": {
        "tags": [
          "excluded_from_script"
        ],
        "id": "o3Ve5AY-qCP5"
      },
      "outputs": [],
      "source": [
        "# this cell has been tagged with excluded_from_script\n",
        "# it will not be run by the autograder\n",
        "%matplotlib inline"
      ]
    },
    {
      "cell_type": "markdown",
      "metadata": {
        "id": "0_o3V2FRqCP5"
      },
      "source": [
        "### Question 1: Linear Regression\n",
        "Recall from the primer that linear regression assumes the following hypothesis function:\n",
        "$$h_\\theta(x) = b + \\theta^T x.$$\n",
        "\n",
        "With this hypothesis function, input data $X \\in \\mathbb{R}^{n \\times d}$ and output data $Y \\in \\mathbb{R}^{n}$, linear regression attempts to minimize the loss function:\n",
        "$$\\mathcal{L}(\\theta, b) = \\frac{1}{2n} \\left[ \\sum_{i=1}^n \\left(h_\\theta(x^{(i)}) - y^{(i)} \\right)^2   \\right] + \\frac{\\lambda}{2n} \\|\\theta\\|_2^2,$$\n",
        "where $\\theta \\in \\mathbb{R}^{d}$ is the weight, $b$ is the intercept term, and $\\lambda \\ge 0$ is the regularization parameter.\n",
        "\n",
        "This optimization can be carried out by gradient descent. Given a learning rate $\\alpha$, batch gradient descent for training linear regression consists of two steps:\n",
        "\n",
        "1. Initialize $b = 0$ and $\\theta$ as a vector of 0s.\n",
        "1. Repeat `n_iters` times:\n",
        "\n",
        "\\begin{align}\n",
        "    b & := b - \\alpha \\cdot \\frac{1}{n} \\sum_{i=1}^n \\left(h_\\theta(x^{(i)}) - y^{(i)} \\right), \\\\\n",
        "    \\theta & := \\theta - \\alpha \\cdot \\frac{1}{n} \\left[\\sum_{i=1}^n \\left(h_\\theta(x^{(i)}) - y^{(i)} \\right) x^{(i)} + \\lambda \\theta \\right].\n",
        "\\end{align}\n",
        "<hr>\n",
        "\n",
        "Implement the class `LinearRegression` with 5 methods -- `__init__`, `loss`, `fit`, `get_params`, and `predict` -- to perform the above tasks. You can create instance variables as you see fit.\n",
        "\n",
        "**Notes**:\n",
        "* A `LinearRegression` instance may be created once and then trained on several datasets. Therefore, you should initialize $b$ and $\\theta$ inside `.fit`, not in `__init__`.\n",
        "* Do not use `np.linalg.norm` when computing $\\|\\theta\\|_2^2$, as it may lead to slightly different outputs. Sum over all the squared elements of $\\theta$ directly."
      ]
    },
    {
      "cell_type": "code",
      "execution_count": null,
      "metadata": {
        "id": "F4UubJ5jqCP5"
      },
      "outputs": [],
      "source": [
        "class LinearRegression:\n",
        "    def __init__(self, lam):\n",
        "        \"\"\"\n",
        "        Class constructor.\n",
        "\n",
        "        args:\n",
        "            lam (float) : the regularizer value\n",
        "        \"\"\"\n",
        "        self.lam = lam\n",
        "        self.theta = None\n",
        "        self.b = None\n",
        "\n",
        "\n",
        "    def loss(self, h, y):\n",
        "        \"\"\"\n",
        "        Compute the average loss L(theta, b) based on the provided formula.\n",
        "\n",
        "        args:\n",
        "            h (np.array[n_samples]) : a vector of hypothesis function values on every input data point,\n",
        "                this is the output of self.predict(X)\n",
        "            y (np.array[n_samples]) : the output data vector\n",
        "\n",
        "        return:\n",
        "            np.float64 : the average loss value\n",
        "        \"\"\"\n",
        "        n = y.shape[0]\n",
        "        mse = np.sum((h - y) ** 2) / (2 * n)\n",
        "        reg = self.lam * np.sum(self.theta ** 2) / (2 * n)\n",
        "        return mse + reg\n",
        "\n",
        "    def fit(self, X, y, n_iters = 100, alpha = 0.01):\n",
        "        \"\"\"\n",
        "        Train the model weights and intercept term using batch gradient descent.\n",
        "\n",
        "        args:\n",
        "            X (np.array[n_samples, n_dimensions]) : the input data matrix\n",
        "            y (np.array[n_samples]) : the output data vector\n",
        "\n",
        "        kwargs:\n",
        "            n_iters (int) : the number of iterations to train for\n",
        "            alpha (float) : the learning rate\n",
        "\n",
        "        return:\n",
        "            List[np.float64] : a list of length (n_iters + 1) that contains the loss value\n",
        "                before training and after each training iteration\n",
        "        \"\"\"\n",
        "        n_samples, n_dimensions = X.shape\n",
        "        self.theta = np.zeros(n_dimensions)\n",
        "        self.b = 0\n",
        "        losses = []\n",
        "\n",
        "        h = self.predict(X)\n",
        "        losses.append(self.loss(h, y))\n",
        "\n",
        "        for _ in range(n_iters):\n",
        "            h = self.predict(X)\n",
        "            error = h - y\n",
        "\n",
        "            db = np.sum(error) / n_samples\n",
        "            self.b -= alpha * db\n",
        "\n",
        "            dtheta = (np.dot(X.T, error) / n_samples) + (self.lam / n_samples) * self.theta\n",
        "            self.theta -= alpha*dtheta\n",
        "\n",
        "            losses.append(self.loss(self.predict(X),y))\n",
        "        return losses\n",
        "\n",
        "\n",
        "\n",
        "    def get_params(self):\n",
        "        \"\"\"\n",
        "        Get the model weights and intercept term.\n",
        "\n",
        "        return:\n",
        "            Tuple(theta, b):\n",
        "                theta (np.array[n_dimensions]) : the weight vector\n",
        "                b (np.float64) : the intercept term\n",
        "        \"\"\"\n",
        "        return self.theta, self.b\n",
        "\n",
        "    def predict(self, X):\n",
        "        \"\"\"\n",
        "        Predict the output vector given an input matrix\n",
        "\n",
        "        args:\n",
        "            X (np.array[n_samples, n_dimensions]) : the input data matrix\n",
        "\n",
        "        return:\n",
        "            np.array[n_samples] : a vector of hypothesis function values on every input data point\n",
        "        \"\"\"\n",
        "        return np.dot(X, self.theta) + self.b\n",
        "\n",
        "# do not modify this function\n",
        "def linear_regression(lam = 1e-4):\n",
        "    return LinearRegression(lam)"
      ]
    },
    {
      "cell_type": "code",
      "execution_count": null,
      "metadata": {
        "tags": [
          "excluded_from_script"
        ],
        "colab": {
          "base_uri": "https://localhost:8080/"
        },
        "id": "cEL86H70qCP6",
        "outputId": "4e269888-afb0-43f9-9d18-8b160a138f10"
      },
      "outputs": [
        {
          "output_type": "stream",
          "name": "stdout",
          "text": [
            "All tests passed!\n"
          ]
        }
      ],
      "source": [
        "def test_linear_regression():\n",
        "    X = np.array([[0.9, 1.9], [1.95, 1.8], [1.85, 0.45], [1.3, 1.55], [1.9, 1.25]])\n",
        "    y = np.array([-9.5, -6.8,  2.3, -5.9, -2.6])\n",
        "    lr = linear_regression(lam = 1e-4)\n",
        "\n",
        "    # before gradient descent\n",
        "    losses = lr.fit(X, y, n_iters = 0)\n",
        "    theta, b = lr.get_params()\n",
        "    assert np.allclose(theta, [0, 0])\n",
        "    assert b == 0\n",
        "    assert np.allclose(losses[-1], 18.335)\n",
        "    assert list(lr.predict(X)) == [0] * len(y)\n",
        "\n",
        "    # gradient descent 1 iter\n",
        "    losses = lr.fit(X, y, n_iters = 1)\n",
        "    theta, b = lr.get_params()\n",
        "    assert theta.shape == (X.shape[1], )\n",
        "    assert np.allclose(theta, [-0.06033, -0.0833])\n",
        "    assert np.allclose(b, -0.045)\n",
        "    assert np.allclose(losses[-1], 17.10814680143814)\n",
        "    assert np.allclose(lr.predict(X).round(6), np.array([\n",
        "        -0.257567, -0.3125835, -0.1940955, -0.252544, -0.263752\n",
        "    ]))\n",
        "\n",
        "    # gradient descent 2 iters\n",
        "    losses = lr.fit(X, y, n_iters = 2)\n",
        "    theta, b = lr.get_params()\n",
        "    assert theta.shape == (X.shape[1], )\n",
        "    assert np.allclose(theta, [-0.11660027, -0.16287898])\n",
        "    assert np.allclose(b, -0.087438916)\n",
        "    assert np.allclose(losses[-1], 16.0080447832965)\n",
        "    assert np.allclose(lr.predict(X).round(6), np.array([\n",
        "       -0.5018492097016, -0.6079915917733, -0.3764449478234, -0.49148167470869997, -0.5125781417720999\n",
        "    ]))\n",
        "\n",
        "    # gradient descent 1000 iters\n",
        "    losses = lr.fit(X, y, n_iters = 1000)\n",
        "    theta, b = lr.get_params()\n",
        "    assert theta.shape == (X.shape[1], )\n",
        "    assert np.allclose(theta, [2.61161347, -6.14304403])\n",
        "    assert np.allclose(b, -0.12902223174669367)\n",
        "    assert np.allclose(losses[-1], 0.08234184423206654)\n",
        "    assert np.allclose(lr.predict(X).round(6), np.array([\n",
        "       -9.450353764235567, -6.0938552194255164, 1.9380928722090986, -6.255642966844243, -2.8457616771719003\n",
        "    ]))\n",
        "    print(\"All tests passed!\")\n",
        "\n",
        "test_linear_regression()"
      ]
    },
    {
      "cell_type": "markdown",
      "metadata": {
        "id": "D2LaGikTqCP6"
      },
      "source": [
        "### Question 2: Logistic Regression\n",
        "Recall from the primer that logistic regression assumes the following hypothesis function:\n",
        "$$h_\\theta(x) = \\sigma(b + \\theta^T x)$$\n",
        "where $\\sigma(z) = (1+e^{-z})^{-1}$ is the sigmoid function.\n",
        "\n",
        "With this hypothesis funtion, input data $X \\in \\mathbb{R}^{n \\times d}$ and output labels $Y \\in \\{0,1\\}^{n}$, logistic regression attempts to minimize the loss function\n",
        "$$\\mathcal{L}(\\theta, b) = -\\frac{1}{2n} \\left[{\\sum_{i=1}^{n}} y^{(i)} \\log(h_\\theta(x^{(i)})) + (1-y^{(i)}) \\log(1 - h_\\theta(x^{(i)})) \\right] + \\frac{\\lambda}{2n} \\|\\theta\\|_2^2,$$\n",
        "where $\\theta \\in \\mathbb{R}^{d}$ is the weight, $b$ is the intercept, and $\\lambda \\ge 0$ is the regularization parameter.\n",
        "\n",
        "This optimization can be carried out by gradient descent. Given a learning rate $\\alpha$, batch gradient descent for training logistic regression consists of two steps:\n",
        "\n",
        "1. Initialize $b = 0$ and $\\theta$ as a vector of 0s.\n",
        "1. Repeat `n_iters` times:\n",
        "\n",
        "\\begin{align}\n",
        "    b & := b - \\alpha \\cdot  \\frac{1}{2n} \\sum_{i=1}^n \\left(h_\\theta(x^{(i)}) - y^{(i)} \\right), \\\\\n",
        "    \\theta & := \\theta - \\alpha \\cdot \\frac{1}{2n} \\cdot \\left[\\sum_{i=1}^n (h_\\theta(x^{(i)}) - y^{(i)})x^{(i)} + 2\\lambda \\theta \\right]\n",
        "\\end{align}\n",
        "\n",
        "After training, we can predict the label for a new data point $x$ as\n",
        "$$\\hat y = \\mathbb{1}\\left(h_\\theta(x) \\ge \\frac 1 2 \\right) = \\mathbb{1}(b + \\theta^T x \\ge 0).$$\n",
        "\n",
        "<hr>\n",
        "\n",
        "Implement the class `LRClassifier` with 6 methods -- `__init__`, `loss`, `fit`, `get_weights`, `decision_function` and `predict` -- to perform the above tasks. You can create instance variables as you see fit.\n",
        "\n",
        "**Notes**:\n",
        "* A `LRClassifier` instance may be created once and then trained on several datasets. Therefore, you should initialize $b$ and $\\theta$ inside `.fit`, not in `__init__`."
      ]
    },
    {
      "cell_type": "code",
      "execution_count": null,
      "metadata": {
        "id": "zd8FzwFrqCP6"
      },
      "outputs": [],
      "source": [
        "class LRClassifier:\n",
        "    def __init__(self, lam):\n",
        "        \"\"\"\n",
        "        Class constructor.\n",
        "\n",
        "        args:\n",
        "            lam (float) : the regularizer value\n",
        "        \"\"\"\n",
        "        self.lam = lam\n",
        "        self.theta = None\n",
        "        self.b = None\n",
        "\n",
        "    def loss(self, h, y):\n",
        "        \"\"\"\n",
        "        Compute the average loss L(theta, b) based on the provided formula.\n",
        "\n",
        "        args:\n",
        "            h (np.array[n_samples]) : a vector of hypothesis function values on every input data point,\n",
        "                this is the output of self.decision_function(X)\n",
        "            y (np.array[n_samples]) : the output label vector, containing 0 and 1\n",
        "\n",
        "        return:\n",
        "            np.float64 : the average loss value\n",
        "        \"\"\"\n",
        "        n = y.shape[0]\n",
        "        epsilon = 1e-15\n",
        "        loss = -np.sum(y * np.log(h) + (1 - y) * np.log(1 - h)) / (2 * n)\n",
        "        reg_term = self.lam * np.sum(self.theta ** 2) / (2 * n)\n",
        "        return loss + reg_term\n",
        "\n",
        "    def fit(self, X, y, n_iters = 100, alpha = 1):\n",
        "        \"\"\"\n",
        "        Train the model weights and intercept term using batch gradient descent.\n",
        "\n",
        "        args:\n",
        "            X (np.array[n_samples, n_dimensions]) : the input data matrix\n",
        "            y (np.array[n_samples]) : the output label vector, containing 0 and 1\n",
        "\n",
        "        kwargs:\n",
        "            n_iters (int) : the number of iterations to train for\n",
        "            alpha (float) : the learning rate\n",
        "\n",
        "        return:\n",
        "            List[np.float64] : a list of length (n_iters + 1) that contains the loss value\n",
        "                before training and after each training iteration\n",
        "        \"\"\"\n",
        "        n_samples, n_dimensions = X.shape\n",
        "        self.theta = np.zeros(n_dimensions)\n",
        "        self.b = 0\n",
        "        losses = []\n",
        "        losses.append(self.loss((self.decision_function(X)), y))\n",
        "\n",
        "        for _ in range(n_iters):\n",
        "          h = self.decision_function(X)\n",
        "          error = h - y\n",
        "\n",
        "          db = np.sum(error) / (2 * n_samples)\n",
        "          dtheta = (np.dot(X.T, error) / (2*n_samples)) + (self.lam / n_samples) * self.theta\n",
        "\n",
        "          self.b -= alpha * db\n",
        "          self.theta -= alpha * dtheta\n",
        "\n",
        "          losses.append(self.loss((self.decision_function(X)), y))\n",
        "        return losses\n",
        "\n",
        "    def sigmoid(self, z):\n",
        "        return 1 / (1 + np.exp(-z))\n",
        "\n",
        "    def get_params(self):\n",
        "        \"\"\"\n",
        "        Get the model weights and intercept term.\n",
        "\n",
        "        return:\n",
        "            Tuple(theta, b):\n",
        "                theta (np.array[n_dimensions]) : the weight vector\n",
        "                b (np.float64) : the intercept term\n",
        "        \"\"\"\n",
        "        return self.theta, self.b\n",
        "\n",
        "    def decision_function(self, X):\n",
        "        \"\"\"\n",
        "        Compute the hypothesis function values on every input data point.\n",
        "\n",
        "        args:\n",
        "            X (np.array[n_samples, n_dimensions]) : the input data matrix\n",
        "\n",
        "        return:\n",
        "            np.array[n_samples] : a vector of hypothesis function values on every input data point\n",
        "        \"\"\"\n",
        "        return self.sigmoid(np.dot(X, self.theta) + self.b)\n",
        "\n",
        "    def predict(self, X):\n",
        "        \"\"\"\n",
        "        Predict the label of every input data point.\n",
        "\n",
        "        args:\n",
        "            X (np.array[n_samples, n_dimensions]) : the input data matrix\n",
        "\n",
        "        return:\n",
        "            np.array[n_samples] : a vector of predicted output labels for every input data point\n",
        "        \"\"\"\n",
        "        # return (self.sigmoid(self.decision_function(X)) >= 0.5).astype(int)\n",
        "        return (self.decision_function(X) >= 0.5).astype(int)\n",
        "\n",
        "def binary_lr_classifier(lam = 1e-4):\n",
        "    return LRClassifier(lam)"
      ]
    },
    {
      "cell_type": "code",
      "execution_count": null,
      "metadata": {
        "tags": [
          "excluded_from_script"
        ],
        "colab": {
          "base_uri": "https://localhost:8080/"
        },
        "id": "Xlm3JXGhqCP6",
        "outputId": "10d86546-0b90-4526-b7f5-373700c5721c"
      },
      "outputs": [
        {
          "output_type": "stream",
          "name": "stdout",
          "text": [
            "[0, 1, 1, 1, 1]\n",
            "All tests passed!\n"
          ]
        }
      ],
      "source": [
        "def test_binary_lr_classifier():\n",
        "    X = np.array([[-2, 4], [4, 1], [1, 6], [2, 4], [6, 2]])\n",
        "    y = np.array([0, 0, 1, 1, 1])\n",
        "    lr = binary_lr_classifier(lam = 1e-4)\n",
        "\n",
        "    # before gradient descent\n",
        "    losses = lr.fit(X, y, n_iters = 0)\n",
        "    theta, b = lr.get_params()\n",
        "    assert np.allclose(theta, [0, 0])\n",
        "    assert b == 0\n",
        "    #print(losses[-1])\n",
        "    assert np.allclose(losses[-1], 0.34657359027997264)\n",
        "    #print(lr.decision_function(X))\n",
        "    assert np.allclose(lr.decision_function(X), [0.5] * 5)\n",
        "    assert list(lr.predict(X)) == [1] * len(y)\n",
        "\n",
        "    # 1st iteration\n",
        "    losses = lr.fit(X, y, n_iters = 1)\n",
        "    theta, b = lr.get_params()\n",
        "    assert np.allclose(theta, [0.35, 0.35])\n",
        "    assert b == 0.05\n",
        "    assert np.allclose(losses[-1], 0.33351806318231178)\n",
        "    assert np.allclose(lr.decision_function(X), [0.6791786991753931, 0.8581489350995123, 0.9241418199787566, 0.8956687768809987, 0.9453186827840592])\n",
        "    assert list(lr.predict(X)) == [1] * len(y)\n",
        "\n",
        "    # 2 iterations\n",
        "    losses = lr.fit(X, y, n_iters = 2)\n",
        "    theta, b = lr.get_params()\n",
        "    assert np.allclose(theta, [0.20383002, 0.09069029])\n",
        "    assert np.allclose(b, -0.080246)\n",
        "    assert np.allclose(losses[-1], 0.28778446849618766)\n",
        "    assert np.allclose(lr.decision_function(X), [0.4687546229122032, 0.6954586477733905, 0.6609937974719609, 0.6660059656189242, 0.7898655199585818])\n",
        "    #print(list(lr.predict(X)))\n",
        "    assert list(lr.predict(X)) == [0, 1, 1, 1, 1]\n",
        "\n",
        "    # 1000 iterations\n",
        "    losses = lr.fit(X, y, n_iters = 1000)\n",
        "    theta, b = lr.get_params()\n",
        "    assert np.allclose(theta, [1.62475335, 2.97699553])\n",
        "    assert np.allclose(b, -12.016701793625622)\n",
        "    assert np.allclose(losses[-1], 0.0178892651602277)\n",
        "    assert np.allclose(lr.decision_function(X), [0.0336268115487116, 0.07305423924580728, 0.9994304104089492, 0.9585441655688948, 0.9755365947084815])\n",
        "    assert list(lr.predict(X)) == [0, 0, 1, 1, 1]\n",
        "\n",
        "    print(\"All tests passed!\")\n",
        "\n",
        "test_binary_lr_classifier()"
      ]
    },
    {
      "cell_type": "markdown",
      "metadata": {
        "id": "ZTm8D3rFqCP7"
      },
      "source": [
        "### Question 3: Multi-class Logistic Regression\n",
        "To perform multi-class classification with logistic regression, we will use the one-versus-rest approach. In particular, our classifier can be defined as follows. Note that $h(x)$ now returns a vector, instead of a scalar value, for every input data point $x$.\n",
        "\n",
        "1. **Input data**: $X \\in \\mathbb{R}^{n \\times d}$\n",
        "1. **Output labels**: $Y \\in C^{n}$, where $C = \\{1, 2, \\ldots, k\\}$ is the set of all class labels\n",
        "1. **Parameters**: $\\Theta$ is the matrix of all the weight vectors, and $\\mathbf b$ is the vector of all the intercepts\n",
        "$$\\Theta =\\left[\\begin{array}{cccc}| & | & | & | \\\\\n",
        "\\theta_1 & \\theta_2 & \\cdots & \\theta_k \\\\\n",
        "| & | & | & |\n",
        "\\end{array}\\right] \\in \\mathbb{R}^{d \\times k}, \\quad \\mathbf b = \\begin{pmatrix} b_1 \\\\ b_2 \\\\ \\ldots \\\\ b_k \\end{pmatrix} \\in \\mathbb{R}^k.$$\n",
        "1. **Hypothesis function**:\n",
        "$$\n",
        "    h(x) = \\frac{1}{\\sum_{c \\in C} \\exp(b_c + \\theta_c^T x)} \\cdot\n",
        "    \\begin{pmatrix}\n",
        "        \\exp(b_1 + \\theta_1^T x) \\\\\n",
        "        \\exp(b_2 + \\theta_2^T x) \\\\\n",
        "        \\ldots \\\\\n",
        "        \\exp(b_k + \\theta_k^T x) \\\\\n",
        "    \\end{pmatrix}\n",
        "$$\n",
        "1. **Loss function**: $$\\mathcal L(\\Theta, \\mathbf b) = - \\frac{1}{2n} \\left[\\sum_{i=1}^{n} \\log h(x^{(i)})_{y^{(i)}}\\right] + \\frac{\\lambda}{2n} \\sum_{c \\in C}\\|\\theta_c\\|_2^2,$$\n",
        "where $h(x)_j$ denotes the $j$-th entry in the vector $h(x)$.\n",
        "\n",
        "To train and use the classifier, we perform the following steps:\n",
        "1. For each class $c \\in C$:\n",
        "    * Transform the label vector $Y$ to $Y_c$ where\n",
        "        $$y_c^{(i)} = \\begin{cases} 1 & \\text{ if } y^{(i)} = c \\\\ 0 & \\text{ if } y^{(i)} \\ne c \\end{cases}$$\n",
        "    * Train a binary logistic regression classifier $(\\theta_c, b_c)$ with `n_iters` iterations, based on input $X$ and output label $Y_c$. $(\\theta_c, b_c)$ predicts whether a data point has label $c$ or not. You can assume all the binary classifiers share the same hyperparameters.\n",
        "1. After training, we can predict the label for a new data point $x$ as\n",
        "$$\\hat y = \\underset{c \\in C}{\\operatorname{argmax}} h(x)_c = \\underset{c \\in C}{\\operatorname{argmax}} b_c + \\theta_c^T x.$$\n",
        "\n",
        "While $\\Theta$ can also be derived by minimizing $\\mathcal L(\\Theta, b)$ through gradient descent, here we will only train the weight vectors $\\theta_c$'s individually, following the one-versus-rest heuristic from above. We can still use $\\mathcal L(\\Theta, b)$ to evaluate the performance of our classifier on the training data after the training is done.\n",
        "\n",
        "<hr>\n",
        "\n",
        "Implement the class `MultiClassLRClassifier` with 6 methods -- `__init__`, `loss`, `fit`, `get_weights`, `decision_function` and `predict` -- to perform the above tasks. You can create instance variables as you see fit.\n",
        "\n",
        "**Notes**:\n",
        "* Same as before, remember to initialize $\\Theta$ and $\\mathbf b$ in `.fit`. However, `.fit` now **only needs to return the final loss value after training**, not the entire list of loss values by iteration.\n",
        "* If there are $k$ classes in total, you can assume the class labels will be `[0, 1, ..., k-1]`.\n",
        "* Remember to use the exp-normalize trick when computing $h(x)$.\n",
        "* As an alternative way to compute $\\mathcal L$, you can rewrite it as\n",
        "$$\\mathcal L(\\Theta, \\mathbf b) = - \\frac{1}{2n} \\left[\\sum_{i=1}^{n}\\sum_{j \\in C} \\mathbb{1}(j = y^{(i)}) \\log h(x)_j \\right] + \\frac{\\lambda}{2n} \\sum_{c \\in C}\\|\\theta_c\\|_2^2,$$\n",
        "which can be computed by turning $Y$ into a one-hot encoding matrix of size $n \\times k$."
      ]
    },
    {
      "cell_type": "code",
      "source": [
        "import numpy as np\n",
        "\n",
        "class MultiClassLRClassifier:\n",
        "    def __init__(self, lam):\n",
        "        \"\"\"\n",
        "        Class constructor.\n",
        "\n",
        "        args:\n",
        "            lam (float) : the regularizer value\n",
        "        \"\"\"\n",
        "        self.lam = lam\n",
        "        self.Theta = None\n",
        "        self.B = None\n",
        "\n",
        "    def loss(self, H, y):\n",
        "        \"\"\"\n",
        "        Compute the average loss L(theta, b) based on the provided formula.\n",
        "\n",
        "        args:\n",
        "            H (np.array[n_samples, n_classes]) : the hypothesis matrix, where row i is h(X[i]),\n",
        "                this is the output of self.decision_function(X)\n",
        "            y (np.array[n_samples]) : the output label vector, containing labels from 0 to n_classes-1\n",
        "\n",
        "        return:\n",
        "            np.float64 : the average loss value\n",
        "        \"\"\"\n",
        "        n_samples = H.shape[0]\n",
        "        log_likelihood = -np.sum(np.log(H[np.arange(n_samples), y])) / (2 * n_samples)\n",
        "        regularization = (self.lam / (2 * n_samples)) * np.sum(self.Theta ** 2)\n",
        "        return log_likelihood + regularization\n",
        "\n",
        "    def fit(self, X, y, n_iters=100, alpha=1):\n",
        "        \"\"\"\n",
        "        Independently train n_classes binary LR classifiers, each predicting whether a data point is in a particular class or not.\n",
        "        Each classifier is trained by batch gradient descent.\n",
        "\n",
        "        args:\n",
        "            X (np.array[n_samples, n_dimensions]) : the input data matrix\n",
        "            y (np.array[n_samples]) : the output label vector, containing labels from 0 to n_classes-1\n",
        "\n",
        "        kwargs:\n",
        "            n_iters (int) : the number of iterations to train for\n",
        "            alpha (float) : the learning rate\n",
        "\n",
        "        return:\n",
        "            np.float64 : the cross-entropy loss value on the entire training data after training\n",
        "        \"\"\"\n",
        "        n_samples, n_features = X.shape\n",
        "        classes = np.unique(y)\n",
        "        n_classes = len(classes)\n",
        "\n",
        "        self.Theta = np.zeros((n_features, n_classes))\n",
        "        self.B = np.zeros(n_classes)\n",
        "\n",
        "        for c in classes:\n",
        "            y_c = (y == c).astype(int)\n",
        "\n",
        "            theta_c = np.zeros(n_features)\n",
        "            b_c = 0\n",
        "\n",
        "            for _ in range(n_iters):\n",
        "                linear_output = np.dot(X, theta_c) + b_c\n",
        "                predictions = 1 / (1 + np.exp(-linear_output))\n",
        "\n",
        "                error = predictions - y_c\n",
        "\n",
        "                theta_c -= alpha * (np.dot(X.T, error) / (2*n_samples) + self.lam * theta_c / n_samples)\n",
        "                b_c -= alpha * np.sum(error) / (2*n_samples)\n",
        "\n",
        "            self.Theta[:, c] = theta_c\n",
        "            self.B[c] = b_c\n",
        "\n",
        "        H = self.decision_function(X)\n",
        "        return self.loss(H, y)\n",
        "\n",
        "    def get_params(self):\n",
        "        \"\"\"\n",
        "        Get the model weight matrix and intercept vector.\n",
        "\n",
        "        return:\n",
        "            Tuple(Theta, B):\n",
        "                Theta (np.array[n_dimensions, n_classes]) : the weight matrix,\n",
        "                    where column j is the weight vector of the classifier that predicts whether a data point is in class j\n",
        "                B (np.array[n_classes]) : the intercept vector,\n",
        "                    where item j is the intercept of the classifier that predicts whether a data point is in class j\n",
        "        \"\"\"\n",
        "        return self.Theta, self.B\n",
        "\n",
        "    def decision_function(self, X):\n",
        "        \"\"\"\n",
        "        Compute the hypothesis function values on every input data point.\n",
        "\n",
        "        args:\n",
        "            X (np.array[n_samples, n_dimensions]) : the input data matrix\n",
        "\n",
        "        return:\n",
        "            np.array[n_samples, n_classes] : the hypothesis matrix, where row i is h(X[i]),\n",
        "                see the formula for h(x) in the writeup above.\n",
        "        \"\"\"\n",
        "        linear_output = np.dot(X, self.Theta) + self.B\n",
        "        linear_output -= np.max(linear_output, axis=1, keepdims=True)\n",
        "        exp_output = np.exp(linear_output)\n",
        "        return exp_output / np.sum(exp_output, axis=1, keepdims=True)\n",
        "\n",
        "    def predict(self, X):\n",
        "        \"\"\"\n",
        "        Predict the label of every input data point.\n",
        "\n",
        "        args:\n",
        "            X (np.array[n_samples, n_dimensions]) : the input data matrix\n",
        "\n",
        "        return:\n",
        "            np.array[n_samples] : a vector of output labels for every input data point\n",
        "        \"\"\"\n",
        "        H = self.decision_function(X)\n",
        "        return np.argmax(H, axis=1)\n",
        "\n",
        "def multiclass_lr_classifier(lam=1e-4):\n",
        "    return MultiClassLRClassifier(lam)\n"
      ],
      "metadata": {
        "id": "IBSHZz9TxapO"
      },
      "execution_count": null,
      "outputs": []
    },
    {
      "cell_type": "code",
      "execution_count": null,
      "metadata": {
        "tags": [
          "excluded_from_script"
        ],
        "colab": {
          "base_uri": "https://localhost:8080/"
        },
        "id": "APT95dOwqCP7",
        "outputId": "4e4cd506-98cf-407e-9810-4cfbe97cae17"
      },
      "outputs": [
        {
          "output_type": "stream",
          "name": "stdout",
          "text": [
            "All tests passed!\n"
          ]
        }
      ],
      "source": [
        "def test_multiclass_lr_classifier():\n",
        "    X = np.array([\n",
        "        [1, 6], [1, 7], [2, 5], [2, 8],\n",
        "        [4, 2], [4, 3], [5, 1], [5, 2],\n",
        "        [5, 3], [6, 1], [6, 2], [9, 4],\n",
        "        [9, 7], [10, 5], [10, 6], [11, 6],\n",
        "        [5, 9], [5, 10], [5, 11], [6, 9],\n",
        "        [6, 10], [7, 10], [8, 11]\n",
        "    ])\n",
        "    y = np.array([\n",
        "        0, 0, 0, 0,\n",
        "        1, 1, 1, 1, 1, 1, 1,\n",
        "        2, 2, 2, 2, 2,\n",
        "        3, 3, 3, 3, 3, 3, 3\n",
        "    ])\n",
        "    multi_lr = multiclass_lr_classifier(lam = 1e-4)\n",
        "\n",
        "    # before gradient descent\n",
        "    final_loss = multi_lr.fit(X, y, n_iters = 0)\n",
        "    thetas, bs = multi_lr.get_params()\n",
        "    assert np.allclose(thetas, np.zeros((2, 4)))\n",
        "    assert np.allclose(bs, np.zeros(4))\n",
        "    assert np.allclose(final_loss, 0.6931471805599453)\n",
        "    assert np.allclose(multi_lr.decision_function(X), np.full((len(y), 4), 0.25))\n",
        "    assert list(multi_lr.predict(X)) == [0] * len(y)\n",
        "\n",
        "    # gradient descent 1 iter\n",
        "    final_loss = multi_lr.fit(X, y, n_iters = 1)\n",
        "    thetas, bs = multi_lr.get_params()\n",
        "    # print(thetas)\n",
        "    assert np.allclose(thetas, np.array(\n",
        "        [[-1.3043478260869565, -0.6739130434782609, -0.3695652173913043, -0.5217391304347826],\n",
        "         [-0.9347826086956521, -1.1956521739130435, -0.8913043478260869, 0.021739130434782608]]\n",
        "    ))\n",
        "    assert np.allclose(bs, [-0.16304347826086957, -0.09782608695652174, -0.14130434782608695, -0.09782608695652174])\n",
        "    assert np.allclose(final_loss, 1.5948661586516544)\n",
        "    assert np.allclose(multi_lr.decision_function(X), np.loadtxt(\"multi_lr_decision_function_1.npy\"))\n",
        "    # assert np.allclose(multi_lr.decision_function(X), np.loadtxt(\"local_test_refs/multi_lr_decision_function_1.npy\"))\n",
        "    assert list(multi_lr.predict(X)) == [3] * len(y)\n",
        "\n",
        "    # gradient descent 2 iter\n",
        "    final_loss = multi_lr.fit(X, y, n_iters = 2)\n",
        "    thetas, bs = multi_lr.get_params()\n",
        "    assert np.allclose(thetas, np.array(\n",
        "        [[-1.1741525763887666, 0.08405329650269378, 0.6749300069596299, 0.250023946810188],\n",
        "         [-0.3698696640278152, -0.8923347376289046, -0.2904085511104315, 1.252575005389721]]\n",
        "    ))\n",
        "    assert np.allclose(bs, [-0.07616801209977848, 0.05374654543619424, -0.03683221319180832, 0.006708777994691106])\n",
        "    assert np.allclose(final_loss, 2.4507247738274804)\n",
        "    assert np.allclose(multi_lr.decision_function(X), np.loadtxt(\"multi_lr_decision_function_2.npy\"))\n",
        "    # assert np.allclose(multi_lr.decision_function(X), np.loadtxt(\"local_test_refs/multi_lr_decision_function_2.npy\"))\n",
        "    assert list(multi_lr.predict(X)) == [3, 3, 3, 3, 3, 3, 2, 3, 3, 2, 3, 3, 3, 3, 3, 3, 3, 3, 3, 3, 3, 3, 3]\n",
        "\n",
        "    # gradient descent 1000 iter\n",
        "    final_loss = multi_lr.fit(X, y, n_iters = 1000)\n",
        "    thetas, bs = multi_lr.get_params()\n",
        "    assert np.allclose(thetas, np.array(\n",
        "        [[-4.43691485302322, -0.15895242949854863, 1.8314459978612432, 0.11428400803141586],\n",
        "         [1.4462434773266433, -2.243038284524103, -0.4123296983423064, 1.8358466248685217]]\n",
        "    ))\n",
        "    assert np.allclose(bs, [3.3982221320824473, 8.9389563873553, -12.268402031207522, -15.67416835171075])\n",
        "    assert np.allclose(final_loss, 0.0020306591987543157)\n",
        "    assert np.allclose(multi_lr.decision_function(X), np.loadtxt(\"multi_lr_decision_function_1000.npy\"))\n",
        "    # assert np.allclose(multi_lr.decision_function(X), np.loadtxt(\"local_test_refs/multi_lr_decision_function_1000.npy\"))\n",
        "    assert list(multi_lr.predict(X)) == list(y)\n",
        "\n",
        "    print(\"All tests passed!\")\n",
        "\n",
        "test_multiclass_lr_classifier()"
      ]
    },
    {
      "cell_type": "markdown",
      "metadata": {
        "id": "j0LXmDvZqCP7"
      },
      "source": [
        "We see that even though we only use the one-versus-rest heuristic and don't directly optimize for the cross-entropy loss, the final loss value after training for 1000 iterations is only 0.002, so one-versus-rest indeed works in this case."
      ]
    },
    {
      "cell_type": "markdown",
      "metadata": {
        "id": "JEde0mUOqCP7"
      },
      "source": [
        "### Question 4: Support Vector Machine\n",
        "Recall from the primer that SVM assumes the following hypothesis function:\n",
        "$$h_\\theta(x) = b + \\theta^T x.$$\n",
        "\n",
        "With this hypothesis function, input data $X \\in \\mathbb{R}^{n \\times d}$ and output labels $Y \\in \\{-1,1\\}^{n}$, SVM attempts to minimize the loss function\n",
        "$$\\mathcal{L}(\\theta) = \\frac{1}{2n} \\left[\\sum_{i=1}^n \\max \\{ 1 - h_\\theta(x^{(i)}) \\cdot y^{(i)}, 0 \\}\\right] + \\frac{\\lambda}{2n} \\|\\theta\\|_2^2,$$\n",
        "where $\\theta \\in \\mathbb{R}^{d}$ is the vector, $b$ is the intercept term, and $\\lambda \\ge 0$ is the regularization parameter.\n",
        "\n",
        "This optimization can be carried out by gradient descent. Given a learning rate $\\alpha$, batch gradient descent for training SVM consists of two steps:\n",
        "\n",
        "1. Initialize $b = 0$ and $\\theta$ as a vector of 0s.\n",
        "1. Repeat `n_iters` times:\n",
        "\n",
        "\\begin{align}\n",
        "    b & := b - \\alpha \\cdot  \\frac{1}{2n} \\sum_{i=1}^n -y^{(i)} \\mathbb{1}\\left(h(x^{(i)}) \\cdot y^{(i)} \\le 1 \\right), \\\\\n",
        "    \\theta & := \\theta - \\alpha \\cdot \\frac{1}{2n} \\cdot \\left[\\left(\\sum_{i=1}^n -x^{(i)} y^{(i)} \\mathbb{1}\\left(h(x^{(i)}) \\cdot y^{(i)} \\le 1 \\right)\\right) + 2\\lambda \\theta \\right].\n",
        "\\end{align}\n",
        "\n",
        "After training, we can predict the label for a new data point $x$ as\n",
        "$$\\hat y = \\begin{cases} 1 & \\text { if } h_\\theta(x) \\ge 0 \\\\ -1 & \\text{ if } h_\\theta(x) < 0 \\end{cases}$$\n",
        "<hr>\n",
        "\n",
        "Implement the class `SVMClassifier` with 6 methods -- `__init__`, `loss`, `fit`, `get_weights`, `decision_function` and `predict` -- to perform the above tasks. You can create instance variables as you see fit.\n",
        "\n",
        "**Notes**:\n",
        "* An `SVMClassifier` instance may be created once and then trained on several datasets. Therefore, you should initialize $b$ and $\\theta$ inside `.fit`, not in `__init__`."
      ]
    },
    {
      "cell_type": "code",
      "execution_count": null,
      "metadata": {
        "id": "dzvnoYPrqCP7"
      },
      "outputs": [],
      "source": [
        "class SVMClassifier:\n",
        "    def __init__(self, lam):\n",
        "        \"\"\"\n",
        "        Class constructor.\n",
        "\n",
        "        args:\n",
        "            lam (float) : the regularizer value\n",
        "        \"\"\"\n",
        "        self.lam = lam\n",
        "        self.theta = None\n",
        "        self.b = None\n",
        "\n",
        "    def loss(self, h, y):\n",
        "        \"\"\"\n",
        "        Compute the average loss L(theta, b) based on the provided formula.\n",
        "\n",
        "        args:\n",
        "            h (np.array[n_samples]) : a vector of hypothesis function values on every input data point,\n",
        "                this is the output of self.decision_function(X)\n",
        "            y (np.array[n_samples]) : the output data vector\n",
        "\n",
        "        return:\n",
        "            np.float64 : the average loss value\n",
        "        \"\"\"\n",
        "        n = y.shape[0]\n",
        "        hinge_loss = np.maximum(0, 1 - h * y)\n",
        "        avg_loss = np.sum(hinge_loss)/(2*n)\n",
        "        reg_term = (self.lam / (2 * n)) * np.sum(self.theta ** 2)\n",
        "        return avg_loss + reg_term\n",
        "\n",
        "    def fit(self, X, y, n_iters = 100, alpha = 1):\n",
        "        \"\"\"\n",
        "        Train the model weights and intercept term using batch gradient descent.\n",
        "\n",
        "        args:\n",
        "            X (np.array[n_samples, n_dimensions]) : the input data matrix\n",
        "            y (np.array[n_samples]) : the output label vector, containing 0 and 1\n",
        "\n",
        "        kwargs:\n",
        "            n_iters (int) : the number of iterations to train for\n",
        "            alpha (float) : the learning rate\n",
        "\n",
        "        return:\n",
        "            List[np.float64] : a list of length (n_iters + 1) that contains the loss value\n",
        "                before training and after each training iteration\n",
        "        \"\"\"\n",
        "        n_samples, n_features = X.shape\n",
        "        self.theta = np.zeros(n_features)\n",
        "        self.b = 0\n",
        "        losses = []\n",
        "\n",
        "        h = self.decision_function(X)\n",
        "        losses.append(self.loss(h, y))\n",
        "\n",
        "        for _ in range(n_iters):\n",
        "            h = self.decision_function(X)\n",
        "            condition = np.where(h * y <= 1)[0]\n",
        "\n",
        "            db = -np.sum(y[condition]) / (2 * n_samples)\n",
        "            dtheta = (-np.dot(X[condition].T, y[condition]) / (2 * n_samples)) + (self.lam * self.theta/n_samples)\n",
        "\n",
        "            self.b -= alpha * db\n",
        "            self.theta -= alpha * dtheta\n",
        "\n",
        "            losses.append(self.loss(self.decision_function(X), y))\n",
        "\n",
        "        return losses\n",
        "\n",
        "    def get_params(self):\n",
        "        \"\"\"\n",
        "        Get the model weights and intercept term.\n",
        "\n",
        "        return:\n",
        "            Tuple(theta, b):\n",
        "                theta (np.array[n_dimensions]) : the weight vector\n",
        "                b (np.float64) : the intercept term\n",
        "        \"\"\"\n",
        "        return self.theta, self.b\n",
        "\n",
        "    def decision_function(self, X):\n",
        "        \"\"\"\n",
        "        Compute the hypothesis function values on every input data point.\n",
        "\n",
        "        args:\n",
        "            X (np.array[n_samples, n_dimensions]) : the input data matrix\n",
        "\n",
        "        return:\n",
        "            np.array[n_samples] : a vector of hypothesis function values on every input data point\n",
        "        \"\"\"\n",
        "        return np.dot(X, self.theta) + self.b\n",
        "\n",
        "    def predict(self, X):\n",
        "        \"\"\"\n",
        "        Predict the label of every input data point.\n",
        "\n",
        "        args:\n",
        "            X (np.array[n_samples, n_dimensions]) : the input data matrix\n",
        "\n",
        "        return:\n",
        "            np.array[n_samples] : a vector of predicted output labels for every input data point\n",
        "        \"\"\"\n",
        "        return np.where(self.decision_function(X) >= 0, 1, -1)\n",
        "\n",
        "def binary_svm_classifier(lam = 1e-4):\n",
        "    return SVMClassifier(lam)"
      ]
    },
    {
      "cell_type": "code",
      "execution_count": null,
      "metadata": {
        "tags": [
          "excluded_from_script"
        ],
        "id": "GAOdGV1cqCP8",
        "colab": {
          "base_uri": "https://localhost:8080/"
        },
        "outputId": "b2418c8a-9ae6-4715-b42c-055ad8a722ab"
      },
      "outputs": [
        {
          "output_type": "stream",
          "name": "stdout",
          "text": [
            "All tests passed!\n"
          ]
        }
      ],
      "source": [
        "def test_binary_svm_classifier():\n",
        "    X = np.array([[-2, 4], [4, 1], [1, 6], [2, 4], [6, 2]])\n",
        "    y = np.array([-1, -1, 1, 1, 1])\n",
        "    svm = binary_svm_classifier(lam = 1e-4)\n",
        "\n",
        "    # before gradient descent\n",
        "    losses = svm.fit(X, y, n_iters = 0)\n",
        "    theta, b = svm.get_params()\n",
        "    assert np.allclose(theta, [0, 0])\n",
        "    assert b == 0\n",
        "    assert np.allclose(losses[-1], 0.5)\n",
        "    assert np.allclose(svm.decision_function(X), [0] * 5)\n",
        "    assert list(svm.predict(X)) == [1] * len(y)\n",
        "\n",
        "    # gradient descent 1 iter\n",
        "    losses = svm.fit(X, y, n_iters = 1)\n",
        "    theta, b = svm.get_params()\n",
        "    assert theta.shape == (X.shape[1], )\n",
        "    assert np.allclose(theta, [0.7, 0.7])\n",
        "    assert np.allclose(b, 0.1)\n",
        "    assert np.allclose(losses[-1], 0.7100098)\n",
        "    assert np.allclose(svm.decision_function(X), [1.5, 3.6, 5, 4.3, 5.7])\n",
        "    assert list(svm.predict(X)) == [1] * len(y)\n",
        "\n",
        "    # gradient descent 2 iters\n",
        "    losses = svm.fit(X, y, n_iters = 2)\n",
        "    theta, b = svm.get_params()\n",
        "    assert np.allclose(theta, [0.499986, 0.199986])\n",
        "    assert np.allclose(b, -0.1)\n",
        "    assert np.allclose(losses[-1], 0.3799930998040039)\n",
        "    assert np.allclose(svm.decision_function(X), [-0.300028, 2.09993, 1.599902, 1.699916, 3.299888])\n",
        "    assert list(svm.predict(X)) == [-1, 1, 1, 1, 1]\n",
        "\n",
        "    # gradient descent 1000 iters\n",
        "    losses = svm.fit(X, y, n_iters = 1000)\n",
        "    theta, b = svm.get_params()\n",
        "    assert np.allclose(theta, [0.58802283, 1.17683636])\n",
        "    assert np.allclose(b, -4.8)\n",
        "    assert np.allclose(losses[-1], 1.7307146603971552e-05)\n",
        "    assert np.allclose(svm.decision_function(X), [-1.26870024, -1.27107231, 2.84904097, 1.08339109, 1.08180971])\n",
        "    assert list(svm.predict(X)) == [-1, -1, 1, 1, 1]\n",
        "\n",
        "    print(\"All tests passed!\")\n",
        "\n",
        "test_binary_svm_classifier()"
      ]
    },
    {
      "cell_type": "markdown",
      "metadata": {
        "id": "4DvkGuRYqCP8"
      },
      "source": [
        "### Question 5: Multi-class SVM\n",
        "\n",
        "To perform multi-class classification with support vector machine, we will use the one-versus-rest approach. In particular, our classifier can be defined as follows. Note that $h(x)$ now returns a vector, instead of a scalar value, for every input data point $x$.\n",
        "\n",
        "1. **Input data**: $X \\in \\mathbb{R}^{n \\times d}$\n",
        "1. **Output labels**: $Y \\in C^{n}$, where $C = \\{1, 2, \\ldots, k\\}$ is the set of all class labels\n",
        "1. **Parameters**: $\\Theta$ is the matrix of all the weight vectors, and $\\mathbf b$ is the vector of all the intercepts\n",
        "$$\\Theta =\\left[\\begin{array}{cccc}| & | & | & | \\\\\n",
        "\\theta_1 & \\theta_2 & \\cdots & \\theta_k \\\\\n",
        "| & | & | & |\n",
        "\\end{array}\\right] \\in \\mathbb{R}^{d \\times k}, \\quad \\mathbf b = \\begin{pmatrix} b_1 \\\\ b_2 \\\\ \\ldots \\\\ b_k \\end{pmatrix} \\in \\mathbb{R}^k.$$\n",
        "1. **Hypothesis function**:\n",
        "$$\n",
        "    h(x) = \\begin{pmatrix}\n",
        "        b_1 + \\theta_1^T x \\\\\n",
        "        b_2 + \\theta_2^T x \\\\\n",
        "        \\ldots \\\\\n",
        "        b_k + \\theta_k^T x \\\\\n",
        "    \\end{pmatrix}\n",
        "$$\n",
        "1. **Loss function**: $$\\mathcal L(\\Theta, \\mathbf{b}) = \\frac{1}{2n} \\left[\\sum_{i=1}^n \\sum_{c \\in C,\\ c \\ne y^{(i)}} \\max\\{0, h(x^{(i)})_c - h(x^{(i)})_{y^{(i)}} + 1 \\} \\right] + \\frac{\\lambda}{2n} \\sum_{c \\in C} \\|\\theta_c\\|_2^2,$$\n",
        "where $h(x)_j$ denotes the $j$-th entry in the vector $h(x)$.\n",
        "\n",
        "To train and use the classifier, we perform the following steps:\n",
        "1. For each class $c \\in C$:\n",
        "    * Transform the label vector $Y$ to $Y_c$ where\n",
        "        $$y_c^{(i)} = \\begin{cases} 1 & \\text{ if } y^{(i)} = c \\\\ -1 & \\text{ if } y^{(i)} \\ne c \\end{cases}$$\n",
        "    * Train a binary SVM classifier $(\\theta_c, b_c)$ for `n_iters` iterations, based on input $X$ and output label $Y_c$. $(\\theta_c, b_c)$ predicts whether a data point has label $c$ or not. You can assume all the binary classifiers share the same hyperparameters.\n",
        "1. After training, we can predict the label for a new data point $x$ as\n",
        "$$\\hat y = \\underset{c \\in C}{\\operatorname{argmax}} h(x)_c = \\underset{c \\in C}{\\operatorname{argmax}} b_c + \\theta_c^T x.$$\n",
        "\n",
        "While $\\Theta$ and $\\mathbf b$ can also be derived by minimizing $\\mathcal L(\\Theta,\n",
        "\\mathbf b)$ through gradient descent, here we will only train the $(\\theta_c, b_c)$ individually, following the one-versus-rest heuristic from above. We can still use $\\mathcal L(\\Theta, \\mathbf b)$ to evaluate the performance of our classifier on the training data after the training is done.\n",
        "\n",
        "<hr>\n",
        "\n",
        "Implement the class `MultiClassSVMClassifier` with 6 methods -- `__init__`, `loss`, `fit`, `get_weights`, `decision_function` and `predict` -- to perform the above tasks. You can create instance variables as you see fit.\n",
        "\n",
        "**Notes**:\n",
        "* Same as before, remember to initialize $\\Theta$ and $\\mathbf b$ in `.fit`. However, `.fit` now **only needs to return the final loss value** after training, not the entire list of loss values by iteration.\n",
        "* If there are $k$ classes in total, you can assume the class labels will be `[0, 1, ..., k-1]`.\n",
        "* Remember that the binarized labels here should be 1 and -1, not 1 and 0."
      ]
    },
    {
      "cell_type": "code",
      "source": [
        "# why their is a +1 in the loss"
      ],
      "metadata": {
        "id": "T2twB_iZm5DT"
      },
      "execution_count": null,
      "outputs": []
    },
    {
      "cell_type": "code",
      "source": [
        "import numpy as np\n",
        "\n",
        "class MultiClassSVMClassifier:\n",
        "    def __init__(self, lam):\n",
        "        \"\"\"\n",
        "        Class constructor.\n",
        "\n",
        "        args:\n",
        "            lam (float) : the regularizer value\n",
        "        \"\"\"\n",
        "        self.lam = lam\n",
        "        self.Theta = None\n",
        "        self.b = None\n",
        "\n",
        "    def loss(self, H, y):\n",
        "        \"\"\"\n",
        "        Compute the average loss L(theta, b) based on the provided formula.\n",
        "\n",
        "        args:\n",
        "            H (np.array[n_samples, n_classes]) : the hypothesis matrix, where row i is h(X[i]),\n",
        "                this is the output of self.decision_function(X)\n",
        "            y (np.array[n_samples]) : the output data vector\n",
        "\n",
        "        return:\n",
        "            np.float64 : the average loss value\n",
        "        \"\"\"\n",
        "        n_samples = y.shape[0]\n",
        "        n_classes = self.Theta.shape[1]\n",
        "\n",
        "        # Calculate multi-class hinge loss\n",
        "        loss = 0\n",
        "        for i in range(n_samples):\n",
        "            correct_class_score = H[i, y[i]]\n",
        "            for j in range(n_classes):\n",
        "                if j != y[i]:\n",
        "                    loss += max(0, H[i, j] - correct_class_score + 1)\n",
        "\n",
        "        # Regularization term\n",
        "        reg = self.lam * np.sum(self.Theta ** 2) / (2 * n_samples)\n",
        "\n",
        "        return (loss / (2 * n_samples)) + reg\n",
        "\n",
        "    def fit(self, X, y, n_iters=100, alpha=1):\n",
        "        \"\"\"\n",
        "        Independently train n_classes binary SVM classifier, each predicing whether a data point is in a particular class or not.\n",
        "        Each classifier is trained by batch gradient descent.\n",
        "\n",
        "        args:\n",
        "            X (np.array[n_samples, n_dimensions]) : the input data matrix\n",
        "            y (np.array[n_samples]) : the output label vector, containing labels from 0 to n_classes-1\n",
        "\n",
        "        kwargs:\n",
        "            n_iters (int) : the number of iterations to train for\n",
        "            alpha (float) : the learning rate\n",
        "\n",
        "        return:\n",
        "             np.float64 : the multinomial hinge loss value on the entire training data after training\n",
        "        \"\"\"\n",
        "        n_samples, n_dimensions = X.shape\n",
        "        self.classes = np.unique(y)\n",
        "        n_classes = len(self.classes)\n",
        "\n",
        "        self.Theta = np.zeros((n_dimensions, n_classes))\n",
        "        self.b = np.zeros(n_classes)\n",
        "\n",
        "        for c in self.classes:\n",
        "            # Transform labels for one-vs-rest approach\n",
        "            Y_c = np.where(y == c, 1, -1)\n",
        "\n",
        "            theta_c = np.zeros(n_dimensions)\n",
        "            b_c = 0\n",
        "\n",
        "            for _ in range(n_iters):\n",
        "                h = np.dot(X, theta_c) + b_c\n",
        "                condition = (Y_c * h) < 1\n",
        "\n",
        "                db = -np.sum(Y_c[condition]) / (2 * n_samples)\n",
        "                dtheta = (-np.dot(X[condition].T, Y_c[condition]) / (2 * n_samples)) + (self.lam * theta_c / n_samples)\n",
        "\n",
        "                b_c -= alpha * db\n",
        "                theta_c -= alpha * dtheta\n",
        "\n",
        "            # Store the learned parameters\n",
        "            self.Theta[:, c] = theta_c\n",
        "            self.b[c] = b_c\n",
        "\n",
        "        # Compute the final loss value after training\n",
        "        return self.loss(self.decision_function(X), y)\n",
        "\n",
        "    def get_params(self):\n",
        "        \"\"\"\n",
        "        Get the model weight matrix and intercept vector.\n",
        "\n",
        "        return:\n",
        "            Tuple(Theta, B):\n",
        "                Theta (np.array[n_dimensions, n_classes]) : the weight matrix,\n",
        "                    where column j is the weight vector of the classifier that predicts whether a data point is in class j\n",
        "                B (np.array[n_classes]) : the intercept vector,\n",
        "                    where item j is the intercept of the classifier that predicts whether a data point is in class j\n",
        "        \"\"\"\n",
        "        return self.Theta, self.b\n",
        "\n",
        "    def decision_function(self, X):\n",
        "        \"\"\"\n",
        "        Compute the hypothesis function values on every input data point.\n",
        "\n",
        "        args:\n",
        "            X (np.array[n_samples, n_dimensions]) : the input data matrix\n",
        "\n",
        "        return:\n",
        "            np.array[n_samples, n_classes] : the hypothesis matrix, where row i is h(X[i]),\n",
        "                see the formula for h(x) in the writeup above.\n",
        "        \"\"\"\n",
        "        return np.dot(X, self.Theta) + self.b\n",
        "\n",
        "    def predict(self, X):\n",
        "        \"\"\"\n",
        "        Predict the label of every input data point.\n",
        "\n",
        "        args:\n",
        "            X (np.array[n_samples, n_dimensions]) : the input data matrix\n",
        "\n",
        "        return:\n",
        "            np.array[n_samples] : a vector of predicted output labels for every input data point\n",
        "        \"\"\"\n",
        "        H = self.decision_function(X)\n",
        "        return np.argmax(H, axis=1)\n",
        "\n",
        "# Do not modify this function\n",
        "def multiclass_svm_classifier(lam=1e-4):\n",
        "    return MultiClassSVMClassifier(lam)\n"
      ],
      "metadata": {
        "id": "vJrYz8jgkq9n"
      },
      "execution_count": null,
      "outputs": []
    },
    {
      "cell_type": "code",
      "execution_count": null,
      "metadata": {
        "tags": [
          "excluded_from_script"
        ],
        "id": "6GYIfUnmqCP8",
        "colab": {
          "base_uri": "https://localhost:8080/"
        },
        "outputId": "80f9ae79-02e8-4310-a00b-0e77da7ebdca"
      },
      "outputs": [
        {
          "output_type": "stream",
          "name": "stdout",
          "text": [
            "All tests passed!\n"
          ]
        }
      ],
      "source": [
        "def test_multiclass_svm_classifier():\n",
        "    X = np.array([\n",
        "        [1, 6], [1, 7], [2, 5], [2, 8],\n",
        "        [4, 2], [4, 3], [5, 1], [5, 2],\n",
        "        [5, 3], [6, 1], [6, 2], [9, 4],\n",
        "        [9, 7], [10, 5], [10, 6], [11, 6],\n",
        "        [5, 9], [5, 10], [5, 11], [6, 9],\n",
        "        [6, 10], [7, 10], [8, 11]\n",
        "    ])\n",
        "    y = np.array([\n",
        "        0, 0, 0, 0,\n",
        "        1, 1, 1, 1, 1, 1, 1,\n",
        "        2, 2, 2, 2, 2,\n",
        "        3, 3, 3, 3, 3, 3, 3\n",
        "    ])\n",
        "    multi_svm = multiclass_svm_classifier(lam = 1e-4)\n",
        "\n",
        "    # before gradient descent\n",
        "    final_loss = multi_svm.fit(X, y, n_iters = 0)\n",
        "    thetas, bs = multi_svm.get_params()\n",
        "    assert np.allclose(thetas, np.zeros((2, 4)))\n",
        "    assert np.allclose(bs, np.zeros(4))\n",
        "    assert np.allclose(final_loss, 1.5)\n",
        "    assert np.allclose(multi_svm.decision_function(X), np.full((len(y), 4), 0))\n",
        "    assert list(multi_svm.predict(X)) == [0] * len(y)\n",
        "\n",
        "    # gradient descent 1 iter\n",
        "    final_loss = multi_svm.fit(X, y, n_iters = 1)\n",
        "    thetas, bs = multi_svm.get_params()\n",
        "    assert np.allclose(thetas, np.array(\n",
        "        [[-2.60869565, -1.34782609, -0.73913043, -1.04347826],\n",
        "         [-1.86956522, -2.39130435, -1.7826087,   0.04347826]]\n",
        "    ))\n",
        "    assert np.allclose(bs, [-0.32608696, -0.19565217, -0.2826087, -0.19565217])\n",
        "    assert np.allclose(final_loss, 4.607799712336648)\n",
        "    # assert np.allclose(multi_svm.decision_function(X), np.loadtxt(\"local_test_refs/multi_svm_decision_function_1.npy\"))\n",
        "    assert np.allclose(multi_svm.decision_function(X), np.loadtxt(\"multi_svm_decision_function_1.npy\"))\n",
        "    assert list(multi_svm.predict(X)) == [3] * len(y)\n",
        "\n",
        "    # gradient descent 2 iters\n",
        "    final_loss = multi_svm.fit(X, y, n_iters = 2)\n",
        "    thetas, bs = multi_svm.get_params()\n",
        "    assert np.allclose(thetas, np.array(\n",
        "        [[-2.478249527410208, -0.5869506616257089, 0.32609017013232533, -0.173908506616257],\n",
        "         [-1.3043396975425332, -2.086946124763705, -1.1739052930056708, 1.282608506616257]]\n",
        "    ))\n",
        "    assert np.allclose(bs, [-0.2391304347826087, -0.043478260869565216, -0.17391304347826086, -0.08695652173913045])\n",
        "    assert np.allclose(final_loss, 6.08933628122314)\n",
        "    # assert np.allclose(multi_svm.decision_function(X), np.loadtxt(\"local_test_refs/multi_svm_decision_function_2.npy\"))\n",
        "    assert np.allclose(multi_svm.decision_function(X), np.loadtxt(\"multi_svm_decision_function_2.npy\"))\n",
        "    assert list(multi_svm.predict(X)) == [3, 3, 3, 3, 3, 3, 3, 3, 3, 2, 3, 3, 3, 3, 3, 3, 3, 3, 3, 3, 3, 3, 3]\n",
        "\n",
        "    # gradient descent 1000 iters\n",
        "    final_loss = multi_svm.fit(X, y, n_iters = 1000)\n",
        "    thetas, bs = multi_svm.get_params()\n",
        "    assert np.allclose(thetas, np.array(\n",
        "        [[-3.0304888496823272, -0.173522930862437, 1.8837726999313502, -0.1064134037200739],\n",
        "         [1.1689677242800083, -1.5149193085489543, -0.5185826453689177, 2.3815731713004644]]\n",
        "    ))\n",
        "    assert np.allclose(bs, [1.260869565217392, 6.56521739130436, -12.260869565217392, -20.695652173913004])\n",
        "    assert np.allclose(final_loss, 4.864387185921901e-05)\n",
        "    #assert np.allclose(multi_svm.decision_function(X), np.loadtxt(\"local_test_refs/multi_svm_decision_function_1000.npy\"))\n",
        "    assert np.allclose(multi_svm.decision_function(X), np.loadtxt(\"multi_svm_decision_function_1000.npy\"))\n",
        "    assert list(multi_svm.predict(X)) == list(y)\n",
        "    print(\"All tests passed!\")\n",
        "\n",
        "\n",
        "test_multiclass_svm_classifier()"
      ]
    },
    {
      "cell_type": "markdown",
      "metadata": {
        "id": "SRtI1E9TqCP8"
      },
      "source": [
        "We see that the loss value actually *increases* during the first few iterations, because we are not directly optimizing for the hinge loss function. However, starting from the 3rd iteration it will start to decrease, and reaches $4.8 \\times 10^{-5}$ after 1000 iterations. Therefore, the one-versus-rest heuristic also works in this case."
      ]
    },
    {
      "cell_type": "markdown",
      "metadata": {
        "id": "lEuJyK5HqCP8"
      },
      "source": [
        "## Part A.2: Data splitting and normalization\n",
        "We will now cover some data processing tasks before running our machine learning models. These include: train-validate split, k-fold split and data normalization."
      ]
    },
    {
      "cell_type": "markdown",
      "metadata": {
        "id": "xq_mRnJOqCP8"
      },
      "source": [
        "### Question 6: Train-validate split\n",
        "Implement the function `train_validate_split` that takes as input a numpy array `X`, a fraction `train_portion`, and a random generator seed. This function then returns `floor(len(X) * train_portion)` row indexes sampled randomly from the input `X` as the training indexes, and the remaining rows as the validation indexes.\n",
        "\n",
        "**Notes**:\n",
        "* You should first get a random permutation `P` of the list `[0, 1, ..., len(X) - 1]` using `np.random.permutation` and the given seed. Then take the first `floor(len(X) * train_portion)` indexes in this permutation as the training indexes, and the remaining as the validation indexes."
      ]
    },
    {
      "cell_type": "code",
      "execution_count": null,
      "metadata": {
        "id": "YYpkJHs9qCP8"
      },
      "outputs": [],
      "source": [
        "def train_validate_split(X, train_portion, seed = 0):\n",
        "    \"\"\"\n",
        "    Geting the training and validation row indexes from a given input data matrix\n",
        "\n",
        "    args:\n",
        "        X (np.array[n_samples, n_dimensions]) : the input data matrix\n",
        "        train_portion (float) : the portion of rows in X used for training, from 0 to 1\n",
        "\n",
        "    kwargs:\n",
        "        seed (int) : the random generator seed\n",
        "\n",
        "    return:\n",
        "        Tuple(training_indexes, validation_indexes):\n",
        "            training_indexes (List[int]) : a list of row indexes in the training set\n",
        "            validation_indexes (List[int]) : a list of row indexes in the validation set\n",
        "    \"\"\"\n",
        "    np.random.seed(seed)\n",
        "    n_samples = len(X)\n",
        "\n",
        "    P = np.random.permutation(n_samples)\n",
        "    train_size = int(n_samples * train_portion)\n",
        "\n",
        "    train_indexes = P[:train_size].tolist()\n",
        "    validation_indexes = P[train_size:].tolist()\n",
        "\n",
        "    return train_indexes, validation_indexes"
      ]
    },
    {
      "cell_type": "code",
      "execution_count": null,
      "metadata": {
        "tags": [
          "excluded_from_script"
        ],
        "id": "dTTnibjcqCP8",
        "colab": {
          "base_uri": "https://localhost:8080/"
        },
        "outputId": "c648237c-97fc-4361-d3d4-64b2ef87d8cd"
      },
      "outputs": [
        {
          "output_type": "stream",
          "name": "stdout",
          "text": [
            "All tests passed!\n"
          ]
        }
      ],
      "source": [
        "def test_train_validate_split():\n",
        "    X = np.zeros((1728, 10))\n",
        "    train_indexes, test_indexes = train_validate_split(X, 0.9, 0)\n",
        "    assert len(train_indexes) == 1555\n",
        "    assert len(test_indexes) == 173\n",
        "    assert train_indexes[:10] == [1318, 124, 648, 249, 1599, 1643, 783, 1364, 1228, 985]\n",
        "    assert train_indexes[-10:] == [139, 749, 1284, 1004, 323, 180, 1272, 450, 1434, 607]\n",
        "    assert test_indexes[:10] == [1043, 1352, 296, 1293, 1250, 94, 1539, 1613, 637, 1304]\n",
        "    assert test_indexes[-10:] == [599, 277, 1033, 1383, 763, 835, 1216, 1653, 559, 684]\n",
        "    print(\"All tests passed!\")\n",
        "\n",
        "test_train_validate_split()"
      ]
    },
    {
      "cell_type": "markdown",
      "metadata": {
        "id": "uQi1L5vtqCP9"
      },
      "source": [
        "### Question 7: K-fold split\n",
        "Implement the function `kfold_split` that takes as input a numpy array `X`, a positive integer `k`, and a random seed. This function splits the row indexes of `X` into `k` folds and returns a list of `k` tuples, where each tuple contains (1) a list of indices used in the training folds, and (2) a list of indices used in the validation fold. Here are the steps for doing so:\n",
        "\n",
        "1. Get a random permutation `P` of the list `[0, 1, ..., len(X) - 1]` using `np.random.permutation` and the given seed. Then partition `P` into `k` consecutive segments, where the first `len(P) % k` segments each have size `len(P)//k + 1`, and the remaining segments each have size `len(P)//k`.\n",
        "1. Once you have `k` folds, return a list of `k` tuples where the `i`-th tuple uses fold `i` as the validation fold and the rest as training fold. The indexes in each fold should appear in the same order as they appear in `P`.\n",
        "\n",
        "As an example, let's say `X` has 10 rows and `k = 3`. We first get a random permutation of the row indexes of `X`: `P = [2, 8, 4, 9, 1, 6, 7, 3, 0, 5]`.\n",
        "* `P` is now divided into 3 folds: `folds = [[2, 8, 4, 9], [1, 6, 7], [3, 0, 5]]`.\n",
        "* We use `folds[0]` as validation indexes, and the others as train indexes:\n",
        "\n",
        "`validation_indexes_0 = [2, 8, 4, 9]`, `train_indexes_0 = [1, 6, 7, 3, 0, 5]`.\n",
        "* We use `folds[1]` as validation indexes, and the others as train indexes:\n",
        "\n",
        "`validation_indexes_1 = [1, 6, 7]`, `train_indexes_1 = [2, 8, 4, 9, 3, 0, 5]`.\n",
        "* We use `folds[2]` as validation indexes, and the others as train indexes:\n",
        "\n",
        "`validation_indexes_2 = [3, 0, 5]`, `train_indexes_2 = [2, 8, 4, 9, 1, 6, 7]`.\n",
        "\n",
        "Finally, the output will be a list of 3 tuples: `[(train_indexes_0, validation_indexes_0), (train_indexes_1, validation_indexes_1), (train_indexes_2, validation_indexes_2)]`."
      ]
    },
    {
      "cell_type": "code",
      "source": [
        "def kfold_split(X, k, seed = 0):\n",
        "    \"\"\"\n",
        "    Perform k-fold split on an input data matrix.\n",
        "\n",
        "    Args:\n",
        "        X (np.ndarray): The input data matrix with shape (n_samples, n_dimensions).\n",
        "        k (int): The number of folds.\n",
        "        seed (int, optional): The random generator seed. Defaults to 0.\n",
        "\n",
        "    Returns:\n",
        "        List[Tuple[List[int], List[int]]]: A list of k tuples, where each tuple contains:\n",
        "            - train_indexes (List[int]): List of row indexes for the training set.\n",
        "            - val_indexes (List[int]): List of row indexes for the validation set.\n",
        "    \"\"\"\n",
        "    np.random.seed(seed)\n",
        "    n_samples = len(X)\n",
        "\n",
        "    # Generate random permutation of indices\n",
        "    permutation = np.random.permutation(n_samples)\n",
        "\n",
        "    # Split indices into k folds\n",
        "    folds = np.array_split(permutation, k)\n",
        "\n",
        "    splits = []\n",
        "    for i in range(k):\n",
        "        # Validation indexes are the current fold\n",
        "        val_indexes = folds[i].tolist()\n",
        "        # Training indexes are all other folds combined\n",
        "        train_indexes = np.concatenate([folds[j] for j in range(k) if j != i]).tolist()\n",
        "        splits.append((train_indexes, val_indexes))\n",
        "\n",
        "    return splits\n"
      ],
      "metadata": {
        "id": "JXf3hGqypNO_"
      },
      "execution_count": null,
      "outputs": []
    },
    {
      "cell_type": "code",
      "execution_count": null,
      "metadata": {
        "tags": [
          "excluded_from_script"
        ],
        "id": "bKS9q2FSqCP9",
        "colab": {
          "base_uri": "https://localhost:8080/"
        },
        "outputId": "ea248095-2000-4b68-d8f8-7021ab53d56a"
      },
      "outputs": [
        {
          "output_type": "stream",
          "name": "stdout",
          "text": [
            "All tests passed!\n"
          ]
        }
      ],
      "source": [
        "def test_kfold_split():\n",
        "    kfolds = kfold_split(np.ones((10, 3)), 3, 0)\n",
        "    assert len(kfolds) == 3\n",
        "    # training indexes\n",
        "    assert [fold[0] for fold in kfolds] == [\n",
        "        [1, 6, 7, 3, 0, 5],\n",
        "        [2, 8, 4, 9, 3, 0, 5],\n",
        "        [2, 8, 4, 9, 1, 6, 7]\n",
        "    ]\n",
        "    # validation indexes\n",
        "    assert [fold[1] for fold in kfolds] == [\n",
        "        [2, 8, 4, 9],\n",
        "        [1, 6, 7],\n",
        "        [3, 0, 5]\n",
        "    ]\n",
        "\n",
        "    kfolds = kfold_split(np.ones((1728, 5)), 10, 0)\n",
        "    # training indexes -- fold size distribution\n",
        "    assert [len(fold[0]) for fold in kfolds] == [1555, 1555, 1555, 1555, 1555, 1555, 1555, 1555, 1556, 1556]\n",
        "    # training indexes -- first index in each fold\n",
        "    assert [fold[0][0] for fold in kfolds] == [529, 1318, 1318, 1318, 1318, 1318, 1318, 1318, 1318, 1318]\n",
        "    # validation indexes - fold size distribution\n",
        "    assert [len(fold[1]) for fold in kfolds] == [173, 173, 173, 173, 173, 173, 173, 173, 172, 172]\n",
        "    # validation indexes -- first index in each fold\n",
        "    assert [fold[1][0] for fold in kfolds] == [1318, 529, 1649, 580, 505, 1303, 1398, 375, 1389, 1352]\n",
        "    print(\"All tests passed!\")\n",
        "\n",
        "test_kfold_split()"
      ]
    },
    {
      "cell_type": "markdown",
      "metadata": {
        "id": "89W1qjqUqCP9"
      },
      "source": [
        "### Question 8: Data normalization\n",
        "Let's now normalize the dataset to prepare for running our models. The normalization method we will pick is to transform each data column to have zero mean and unit variance. Implement the function `normalize_data` which, given the input training data $T$ and validation data $V$, return the normalized data $\\tilde T$ and $\\tilde V$ such that\n",
        "\n",
        "$$\\tilde{T}_{i,j} = \\frac{T_{i,j} - \\mu_j}{\\sigma_j}, \\quad \\tilde{V}_{i,j} = \\frac{V_{i,j} - \\mu_j}{\\sigma_j},$$\n",
        "\n",
        "where $\\mu_j$ and $\\sigma_j$ are the mean and standard deviation of column $j$ in $T$:\n",
        "\n",
        "$$\\mu_j = \\frac{1}{n} \\sum_{i=1}^n T_{i,j}, \\quad \\sigma_j  = \\sqrt{\\frac{1}{n} \\sum_{i=1}^n (T_{i,j} - \\mu_j)^2}.$$\n",
        "\n",
        "Note that we use the same $\\mu_j$ and $\\sigma_j$ derived from $T$ for both $T$ and $V$. In general, we should complete all feature normalization based on the training data alone, and then afterwards apply this same normalization to the validation data."
      ]
    },
    {
      "cell_type": "code",
      "source": [
        "def normalize_data(T, V = None):\n",
        "    \"\"\"\n",
        "    Normalize the training data to get zero mean and unit variance in each column.\n",
        "    Perform the same normalization on the validation / testing data, if provided.\n",
        "\n",
        "    Args:\n",
        "        T (np.ndarray): The training data matrix.\n",
        "\n",
        "    Kwargs:\n",
        "        V (np.ndarray, optional): The validation / testing data matrix. Defaults to None.\n",
        "\n",
        "    Returns:\n",
        "        Tuple[np.ndarray, np.ndarray]:\n",
        "            T_norm (np.ndarray): The normalized training data matrix.\n",
        "            V_norm (np.ndarray): The normalized testing data matrix, or None if V is None.\n",
        "    \"\"\"\n",
        "    # Calculate mean and standard deviation from the training data\n",
        "    mean = np.mean(T, axis=0)\n",
        "    std = np.std(T, axis=0)\n",
        "\n",
        "    # Avoid division by zero by replacing zero std with 1\n",
        "    std[std == 0] = 1\n",
        "\n",
        "    # Normalize the training data\n",
        "    T_norm = (T - mean) / std\n",
        "\n",
        "    # Normalize the validation/testing data using the same mean and std, if provided\n",
        "    V_norm = None\n",
        "    if V is not None:\n",
        "        V_norm = (V - mean) / std\n",
        "\n",
        "    return T_norm, V_norm\n"
      ],
      "metadata": {
        "id": "7u3UOc5vpqEJ"
      },
      "execution_count": null,
      "outputs": []
    },
    {
      "cell_type": "code",
      "execution_count": null,
      "metadata": {
        "tags": [
          "excluded_from_script"
        ],
        "id": "66tlanciqCP9",
        "colab": {
          "base_uri": "https://localhost:8080/"
        },
        "outputId": "d775a29d-5a7b-4468-a606-9e7d58ac987b"
      },
      "outputs": [
        {
          "output_type": "stream",
          "name": "stdout",
          "text": [
            "All tests passed!\n"
          ]
        }
      ],
      "source": [
        "def test_normalize_data():\n",
        "    X_train = np.array([[1, 5, 9], [10, 3, 4], [6, 2, 1]])\n",
        "    X_val = np.array([[2, 7, 8], [16, 9, 5], [0, 6, 3]])\n",
        "    X_train_norm, X_val_norm = normalize_data(X_train, X_val)\n",
        "    assert np.allclose(X_train_norm,\n",
        "        [[-1.26750044,  1.33630621,  1.31319831],\n",
        "        [ 1.1769647 , -0.26726124, -0.20203051],\n",
        "        [ 0.09053575, -1.06904497, -1.1111678 ]]\n",
        "    )\n",
        "    assert np.allclose(X_val_norm,\n",
        "        [[-0.99589321,  2.93987366,  1.01015254],\n",
        "        [ 2.80660813,  4.54344111,  0.10101525],\n",
        "        [-1.53910768,  2.13808994, -0.50507627]]\n",
        "    )\n",
        "\n",
        "    X_train_norm, X_val_norm = normalize_data(X_train)\n",
        "    assert X_val_norm is None\n",
        "    print(\"All tests passed!\")\n",
        "\n",
        "test_normalize_data()"
      ]
    },
    {
      "cell_type": "markdown",
      "metadata": {
        "id": "Bd9XOK4kqCP9"
      },
      "source": [
        "## Part A.3: Putting it all together\n",
        "Let's now see how our models perform on a classical dataset: the [UCI wine quality data](https://archive.ics.uci.edu/ml/datasets/wine). You can read more in the linked page, but at a high level, the dataset has the following variables:\n",
        "\n",
        "**Input variables**:\n",
        "1. fixed acidity : most acids involved with wine or fixed or nonvolatile (do not evaporate readily).\n",
        "1. volatile acidity : the amount of acetic acid in wine, which at too high of levels can lead to an unpleasant, vinegar taste.\n",
        "1. citric acid : found in small quantities, citric acid can add 'freshness' and flavor to wines.\n",
        "1. residual suga : the amount of sugar remaining after fermentation stops, it's rare to find wines with less than 1 gram/liter and wines with greater than 45 grams/liter are considered sweet.\n",
        "1. chlorides : the amount of salt in the wine.\n",
        "free sulfur dioxide : the free form of SO2 exists in equilibrium between molecular SO2 (as a dissolved gas) and bisulfite ion; it prevents microbial growth and the oxidation of wine.\n",
        "1. total sulfur dioxide : amount of free and bound forms of S02; in low concentrations, SO2 is mostly undetectable in wine, but at free SO2 concentrations over 50 ppm, SO2 becomes evident in the nose and taste of wine.\n",
        "1. density : the density of water is close to that of water depending on the percent alcohol and sugar content.\n",
        "1. pH : describes how acidic or basic a wine is on a scale from 0 (very acidic) to 14 (very basic); most wines are between 3-4 on the pH scale.\n",
        "1. sulphates : a wine additive which can contribute to sulfur dioxide gas (S02) levels, wich acts as an antimicrobial and antioxidant.\n",
        "1. alcohol : the percent alcohol content of the wine.\n",
        "\n",
        "**Output variables**:\n",
        "1. *quality*: a score between 0 and 10 given by human wine testers."
      ]
    },
    {
      "cell_type": "markdown",
      "metadata": {
        "id": "gRJj0e-JqCP9"
      },
      "source": [
        "We begin by loading the dataset and doing some quick exploratory analyses."
      ]
    },
    {
      "cell_type": "code",
      "execution_count": null,
      "metadata": {
        "id": "o3S0NZGlqCP9"
      },
      "outputs": [],
      "source": [
        "df_wine = pd.read_csv(\"winequality.csv\", sep = \";\")\n",
        "df_features = df_wine.drop(columns = [\"quality\"])\n",
        "X_wine, y_wine = df_features.to_numpy(), df_wine[\"quality\"].to_numpy()"
      ]
    },
    {
      "cell_type": "code",
      "execution_count": null,
      "metadata": {
        "tags": [
          "excluded_from_script"
        ],
        "id": "Pxp-8K-1qCP9",
        "colab": {
          "base_uri": "https://localhost:8080/",
          "height": 553
        },
        "outputId": "8eb6d5d3-d369-49fa-e062-3148fea6f04a"
      },
      "outputs": [
        {
          "output_type": "display_data",
          "data": {
            "text/plain": [
              "   fixed acidity  volatile acidity  citric acid  residual sugar  chlorides  \\\n",
              "0            7.4              0.70         0.00             1.9      0.076   \n",
              "1            7.8              0.88         0.00             2.6      0.098   \n",
              "2            7.8              0.76         0.04             2.3      0.092   \n",
              "3           11.2              0.28         0.56             1.9      0.075   \n",
              "4            7.4              0.70         0.00             1.9      0.076   \n",
              "\n",
              "   free sulfur dioxide  total sulfur dioxide  density    pH  sulphates  \\\n",
              "0                 11.0                  34.0   0.9978  3.51       0.56   \n",
              "1                 25.0                  67.0   0.9968  3.20       0.68   \n",
              "2                 15.0                  54.0   0.9970  3.26       0.65   \n",
              "3                 17.0                  60.0   0.9980  3.16       0.58   \n",
              "4                 11.0                  34.0   0.9978  3.51       0.56   \n",
              "\n",
              "   alcohol  quality  \n",
              "0      9.4        5  \n",
              "1      9.8        5  \n",
              "2      9.8        5  \n",
              "3      9.8        6  \n",
              "4      9.4        5  "
            ],
            "text/html": [
              "\n",
              "  <div id=\"df-996ecb34-8345-4a51-bad2-c66cc60d51ba\" class=\"colab-df-container\">\n",
              "    <div>\n",
              "<style scoped>\n",
              "    .dataframe tbody tr th:only-of-type {\n",
              "        vertical-align: middle;\n",
              "    }\n",
              "\n",
              "    .dataframe tbody tr th {\n",
              "        vertical-align: top;\n",
              "    }\n",
              "\n",
              "    .dataframe thead th {\n",
              "        text-align: right;\n",
              "    }\n",
              "</style>\n",
              "<table border=\"1\" class=\"dataframe\">\n",
              "  <thead>\n",
              "    <tr style=\"text-align: right;\">\n",
              "      <th></th>\n",
              "      <th>fixed acidity</th>\n",
              "      <th>volatile acidity</th>\n",
              "      <th>citric acid</th>\n",
              "      <th>residual sugar</th>\n",
              "      <th>chlorides</th>\n",
              "      <th>free sulfur dioxide</th>\n",
              "      <th>total sulfur dioxide</th>\n",
              "      <th>density</th>\n",
              "      <th>pH</th>\n",
              "      <th>sulphates</th>\n",
              "      <th>alcohol</th>\n",
              "      <th>quality</th>\n",
              "    </tr>\n",
              "  </thead>\n",
              "  <tbody>\n",
              "    <tr>\n",
              "      <th>0</th>\n",
              "      <td>7.4</td>\n",
              "      <td>0.70</td>\n",
              "      <td>0.00</td>\n",
              "      <td>1.9</td>\n",
              "      <td>0.076</td>\n",
              "      <td>11.0</td>\n",
              "      <td>34.0</td>\n",
              "      <td>0.9978</td>\n",
              "      <td>3.51</td>\n",
              "      <td>0.56</td>\n",
              "      <td>9.4</td>\n",
              "      <td>5</td>\n",
              "    </tr>\n",
              "    <tr>\n",
              "      <th>1</th>\n",
              "      <td>7.8</td>\n",
              "      <td>0.88</td>\n",
              "      <td>0.00</td>\n",
              "      <td>2.6</td>\n",
              "      <td>0.098</td>\n",
              "      <td>25.0</td>\n",
              "      <td>67.0</td>\n",
              "      <td>0.9968</td>\n",
              "      <td>3.20</td>\n",
              "      <td>0.68</td>\n",
              "      <td>9.8</td>\n",
              "      <td>5</td>\n",
              "    </tr>\n",
              "    <tr>\n",
              "      <th>2</th>\n",
              "      <td>7.8</td>\n",
              "      <td>0.76</td>\n",
              "      <td>0.04</td>\n",
              "      <td>2.3</td>\n",
              "      <td>0.092</td>\n",
              "      <td>15.0</td>\n",
              "      <td>54.0</td>\n",
              "      <td>0.9970</td>\n",
              "      <td>3.26</td>\n",
              "      <td>0.65</td>\n",
              "      <td>9.8</td>\n",
              "      <td>5</td>\n",
              "    </tr>\n",
              "    <tr>\n",
              "      <th>3</th>\n",
              "      <td>11.2</td>\n",
              "      <td>0.28</td>\n",
              "      <td>0.56</td>\n",
              "      <td>1.9</td>\n",
              "      <td>0.075</td>\n",
              "      <td>17.0</td>\n",
              "      <td>60.0</td>\n",
              "      <td>0.9980</td>\n",
              "      <td>3.16</td>\n",
              "      <td>0.58</td>\n",
              "      <td>9.8</td>\n",
              "      <td>6</td>\n",
              "    </tr>\n",
              "    <tr>\n",
              "      <th>4</th>\n",
              "      <td>7.4</td>\n",
              "      <td>0.70</td>\n",
              "      <td>0.00</td>\n",
              "      <td>1.9</td>\n",
              "      <td>0.076</td>\n",
              "      <td>11.0</td>\n",
              "      <td>34.0</td>\n",
              "      <td>0.9978</td>\n",
              "      <td>3.51</td>\n",
              "      <td>0.56</td>\n",
              "      <td>9.4</td>\n",
              "      <td>5</td>\n",
              "    </tr>\n",
              "  </tbody>\n",
              "</table>\n",
              "</div>\n",
              "    <div class=\"colab-df-buttons\">\n",
              "\n",
              "  <div class=\"colab-df-container\">\n",
              "    <button class=\"colab-df-convert\" onclick=\"convertToInteractive('df-996ecb34-8345-4a51-bad2-c66cc60d51ba')\"\n",
              "            title=\"Convert this dataframe to an interactive table.\"\n",
              "            style=\"display:none;\">\n",
              "\n",
              "  <svg xmlns=\"http://www.w3.org/2000/svg\" height=\"24px\" viewBox=\"0 -960 960 960\">\n",
              "    <path d=\"M120-120v-720h720v720H120Zm60-500h600v-160H180v160Zm220 220h160v-160H400v160Zm0 220h160v-160H400v160ZM180-400h160v-160H180v160Zm440 0h160v-160H620v160ZM180-180h160v-160H180v160Zm440 0h160v-160H620v160Z\"/>\n",
              "  </svg>\n",
              "    </button>\n",
              "\n",
              "  <style>\n",
              "    .colab-df-container {\n",
              "      display:flex;\n",
              "      gap: 12px;\n",
              "    }\n",
              "\n",
              "    .colab-df-convert {\n",
              "      background-color: #E8F0FE;\n",
              "      border: none;\n",
              "      border-radius: 50%;\n",
              "      cursor: pointer;\n",
              "      display: none;\n",
              "      fill: #1967D2;\n",
              "      height: 32px;\n",
              "      padding: 0 0 0 0;\n",
              "      width: 32px;\n",
              "    }\n",
              "\n",
              "    .colab-df-convert:hover {\n",
              "      background-color: #E2EBFA;\n",
              "      box-shadow: 0px 1px 2px rgba(60, 64, 67, 0.3), 0px 1px 3px 1px rgba(60, 64, 67, 0.15);\n",
              "      fill: #174EA6;\n",
              "    }\n",
              "\n",
              "    .colab-df-buttons div {\n",
              "      margin-bottom: 4px;\n",
              "    }\n",
              "\n",
              "    [theme=dark] .colab-df-convert {\n",
              "      background-color: #3B4455;\n",
              "      fill: #D2E3FC;\n",
              "    }\n",
              "\n",
              "    [theme=dark] .colab-df-convert:hover {\n",
              "      background-color: #434B5C;\n",
              "      box-shadow: 0px 1px 3px 1px rgba(0, 0, 0, 0.15);\n",
              "      filter: drop-shadow(0px 1px 2px rgba(0, 0, 0, 0.3));\n",
              "      fill: #FFFFFF;\n",
              "    }\n",
              "  </style>\n",
              "\n",
              "    <script>\n",
              "      const buttonEl =\n",
              "        document.querySelector('#df-996ecb34-8345-4a51-bad2-c66cc60d51ba button.colab-df-convert');\n",
              "      buttonEl.style.display =\n",
              "        google.colab.kernel.accessAllowed ? 'block' : 'none';\n",
              "\n",
              "      async function convertToInteractive(key) {\n",
              "        const element = document.querySelector('#df-996ecb34-8345-4a51-bad2-c66cc60d51ba');\n",
              "        const dataTable =\n",
              "          await google.colab.kernel.invokeFunction('convertToInteractive',\n",
              "                                                    [key], {});\n",
              "        if (!dataTable) return;\n",
              "\n",
              "        const docLinkHtml = 'Like what you see? Visit the ' +\n",
              "          '<a target=\"_blank\" href=https://colab.research.google.com/notebooks/data_table.ipynb>data table notebook</a>'\n",
              "          + ' to learn more about interactive tables.';\n",
              "        element.innerHTML = '';\n",
              "        dataTable['output_type'] = 'display_data';\n",
              "        await google.colab.output.renderOutput(dataTable, element);\n",
              "        const docLink = document.createElement('div');\n",
              "        docLink.innerHTML = docLinkHtml;\n",
              "        element.appendChild(docLink);\n",
              "      }\n",
              "    </script>\n",
              "  </div>\n",
              "\n",
              "\n",
              "<div id=\"df-d97e33ce-4548-4616-997d-362106532649\">\n",
              "  <button class=\"colab-df-quickchart\" onclick=\"quickchart('df-d97e33ce-4548-4616-997d-362106532649')\"\n",
              "            title=\"Suggest charts\"\n",
              "            style=\"display:none;\">\n",
              "\n",
              "<svg xmlns=\"http://www.w3.org/2000/svg\" height=\"24px\"viewBox=\"0 0 24 24\"\n",
              "     width=\"24px\">\n",
              "    <g>\n",
              "        <path d=\"M19 3H5c-1.1 0-2 .9-2 2v14c0 1.1.9 2 2 2h14c1.1 0 2-.9 2-2V5c0-1.1-.9-2-2-2zM9 17H7v-7h2v7zm4 0h-2V7h2v10zm4 0h-2v-4h2v4z\"/>\n",
              "    </g>\n",
              "</svg>\n",
              "  </button>\n",
              "\n",
              "<style>\n",
              "  .colab-df-quickchart {\n",
              "      --bg-color: #E8F0FE;\n",
              "      --fill-color: #1967D2;\n",
              "      --hover-bg-color: #E2EBFA;\n",
              "      --hover-fill-color: #174EA6;\n",
              "      --disabled-fill-color: #AAA;\n",
              "      --disabled-bg-color: #DDD;\n",
              "  }\n",
              "\n",
              "  [theme=dark] .colab-df-quickchart {\n",
              "      --bg-color: #3B4455;\n",
              "      --fill-color: #D2E3FC;\n",
              "      --hover-bg-color: #434B5C;\n",
              "      --hover-fill-color: #FFFFFF;\n",
              "      --disabled-bg-color: #3B4455;\n",
              "      --disabled-fill-color: #666;\n",
              "  }\n",
              "\n",
              "  .colab-df-quickchart {\n",
              "    background-color: var(--bg-color);\n",
              "    border: none;\n",
              "    border-radius: 50%;\n",
              "    cursor: pointer;\n",
              "    display: none;\n",
              "    fill: var(--fill-color);\n",
              "    height: 32px;\n",
              "    padding: 0;\n",
              "    width: 32px;\n",
              "  }\n",
              "\n",
              "  .colab-df-quickchart:hover {\n",
              "    background-color: var(--hover-bg-color);\n",
              "    box-shadow: 0 1px 2px rgba(60, 64, 67, 0.3), 0 1px 3px 1px rgba(60, 64, 67, 0.15);\n",
              "    fill: var(--button-hover-fill-color);\n",
              "  }\n",
              "\n",
              "  .colab-df-quickchart-complete:disabled,\n",
              "  .colab-df-quickchart-complete:disabled:hover {\n",
              "    background-color: var(--disabled-bg-color);\n",
              "    fill: var(--disabled-fill-color);\n",
              "    box-shadow: none;\n",
              "  }\n",
              "\n",
              "  .colab-df-spinner {\n",
              "    border: 2px solid var(--fill-color);\n",
              "    border-color: transparent;\n",
              "    border-bottom-color: var(--fill-color);\n",
              "    animation:\n",
              "      spin 1s steps(1) infinite;\n",
              "  }\n",
              "\n",
              "  @keyframes spin {\n",
              "    0% {\n",
              "      border-color: transparent;\n",
              "      border-bottom-color: var(--fill-color);\n",
              "      border-left-color: var(--fill-color);\n",
              "    }\n",
              "    20% {\n",
              "      border-color: transparent;\n",
              "      border-left-color: var(--fill-color);\n",
              "      border-top-color: var(--fill-color);\n",
              "    }\n",
              "    30% {\n",
              "      border-color: transparent;\n",
              "      border-left-color: var(--fill-color);\n",
              "      border-top-color: var(--fill-color);\n",
              "      border-right-color: var(--fill-color);\n",
              "    }\n",
              "    40% {\n",
              "      border-color: transparent;\n",
              "      border-right-color: var(--fill-color);\n",
              "      border-top-color: var(--fill-color);\n",
              "    }\n",
              "    60% {\n",
              "      border-color: transparent;\n",
              "      border-right-color: var(--fill-color);\n",
              "    }\n",
              "    80% {\n",
              "      border-color: transparent;\n",
              "      border-right-color: var(--fill-color);\n",
              "      border-bottom-color: var(--fill-color);\n",
              "    }\n",
              "    90% {\n",
              "      border-color: transparent;\n",
              "      border-bottom-color: var(--fill-color);\n",
              "    }\n",
              "  }\n",
              "</style>\n",
              "\n",
              "  <script>\n",
              "    async function quickchart(key) {\n",
              "      const quickchartButtonEl =\n",
              "        document.querySelector('#' + key + ' button');\n",
              "      quickchartButtonEl.disabled = true;  // To prevent multiple clicks.\n",
              "      quickchartButtonEl.classList.add('colab-df-spinner');\n",
              "      try {\n",
              "        const charts = await google.colab.kernel.invokeFunction(\n",
              "            'suggestCharts', [key], {});\n",
              "      } catch (error) {\n",
              "        console.error('Error during call to suggestCharts:', error);\n",
              "      }\n",
              "      quickchartButtonEl.classList.remove('colab-df-spinner');\n",
              "      quickchartButtonEl.classList.add('colab-df-quickchart-complete');\n",
              "    }\n",
              "    (() => {\n",
              "      let quickchartButtonEl =\n",
              "        document.querySelector('#df-d97e33ce-4548-4616-997d-362106532649 button');\n",
              "      quickchartButtonEl.style.display =\n",
              "        google.colab.kernel.accessAllowed ? 'block' : 'none';\n",
              "    })();\n",
              "  </script>\n",
              "</div>\n",
              "\n",
              "    </div>\n",
              "  </div>\n"
            ],
            "application/vnd.google.colaboratory.intrinsic+json": {
              "type": "dataframe",
              "summary": "{\n  \"name\": \"df_wine\",\n  \"rows\": 5,\n  \"fields\": [\n    {\n      \"column\": \"fixed acidity\",\n      \"properties\": {\n        \"dtype\": \"number\",\n        \"std\": 1.6223439832538593,\n        \"min\": 7.4,\n        \"max\": 11.2,\n        \"num_unique_values\": 3,\n        \"samples\": [\n          7.4,\n          7.8,\n          11.2\n        ],\n        \"semantic_type\": \"\",\n        \"description\": \"\"\n      }\n    },\n    {\n      \"column\": \"volatile acidity\",\n      \"properties\": {\n        \"dtype\": \"number\",\n        \"std\": 0.22689204481426842,\n        \"min\": 0.28,\n        \"max\": 0.88,\n        \"num_unique_values\": 4,\n        \"samples\": [\n          0.88,\n          0.28,\n          0.7\n        ],\n        \"semantic_type\": \"\",\n        \"description\": \"\"\n      }\n    },\n    {\n      \"column\": \"citric acid\",\n      \"properties\": {\n        \"dtype\": \"number\",\n        \"std\": 0.24657656011875909,\n        \"min\": 0.0,\n        \"max\": 0.56,\n        \"num_unique_values\": 3,\n        \"samples\": [\n          0.0,\n          0.04,\n          0.56\n        ],\n        \"semantic_type\": \"\",\n        \"description\": \"\"\n      }\n    },\n    {\n      \"column\": \"residual sugar\",\n      \"properties\": {\n        \"dtype\": \"number\",\n        \"std\": 0.31937438845342636,\n        \"min\": 1.9,\n        \"max\": 2.6,\n        \"num_unique_values\": 3,\n        \"samples\": [\n          1.9,\n          2.6,\n          2.3\n        ],\n        \"semantic_type\": \"\",\n        \"description\": \"\"\n      }\n    },\n    {\n      \"column\": \"chlorides\",\n      \"properties\": {\n        \"dtype\": \"number\",\n        \"std\": 0.010807404868885038,\n        \"min\": 0.075,\n        \"max\": 0.098,\n        \"num_unique_values\": 4,\n        \"samples\": [\n          0.098,\n          0.075,\n          0.076\n        ],\n        \"semantic_type\": \"\",\n        \"description\": \"\"\n      }\n    },\n    {\n      \"column\": \"free sulfur dioxide\",\n      \"properties\": {\n        \"dtype\": \"number\",\n        \"std\": 5.761944116355173,\n        \"min\": 11.0,\n        \"max\": 25.0,\n        \"num_unique_values\": 4,\n        \"samples\": [\n          25.0,\n          17.0,\n          11.0\n        ],\n        \"semantic_type\": \"\",\n        \"description\": \"\"\n      }\n    },\n    {\n      \"column\": \"total sulfur dioxide\",\n      \"properties\": {\n        \"dtype\": \"number\",\n        \"std\": 15.139352694220449,\n        \"min\": 34.0,\n        \"max\": 67.0,\n        \"num_unique_values\": 4,\n        \"samples\": [\n          67.0,\n          60.0,\n          34.0\n        ],\n        \"semantic_type\": \"\",\n        \"description\": \"\"\n      }\n    },\n    {\n      \"column\": \"density\",\n      \"properties\": {\n        \"dtype\": \"number\",\n        \"std\": 0.0005403702434442519,\n        \"min\": 0.9968,\n        \"max\": 0.998,\n        \"num_unique_values\": 4,\n        \"samples\": [\n          0.9968,\n          0.998,\n          0.9978\n        ],\n        \"semantic_type\": \"\",\n        \"description\": \"\"\n      }\n    },\n    {\n      \"column\": \"pH\",\n      \"properties\": {\n        \"dtype\": \"number\",\n        \"std\": 0.16991174179555674,\n        \"min\": 3.16,\n        \"max\": 3.51,\n        \"num_unique_values\": 4,\n        \"samples\": [\n          3.2,\n          3.16,\n          3.51\n        ],\n        \"semantic_type\": \"\",\n        \"description\": \"\"\n      }\n    },\n    {\n      \"column\": \"sulphates\",\n      \"properties\": {\n        \"dtype\": \"number\",\n        \"std\": 0.05549774770204643,\n        \"min\": 0.56,\n        \"max\": 0.68,\n        \"num_unique_values\": 4,\n        \"samples\": [\n          0.68,\n          0.58,\n          0.56\n        ],\n        \"semantic_type\": \"\",\n        \"description\": \"\"\n      }\n    },\n    {\n      \"column\": \"alcohol\",\n      \"properties\": {\n        \"dtype\": \"number\",\n        \"std\": 0.21908902300206665,\n        \"min\": 9.4,\n        \"max\": 9.8,\n        \"num_unique_values\": 2,\n        \"samples\": [\n          9.8,\n          9.4\n        ],\n        \"semantic_type\": \"\",\n        \"description\": \"\"\n      }\n    },\n    {\n      \"column\": \"quality\",\n      \"properties\": {\n        \"dtype\": \"number\",\n        \"std\": 0,\n        \"min\": 5,\n        \"max\": 6,\n        \"num_unique_values\": 2,\n        \"samples\": [\n          6,\n          5\n        ],\n        \"semantic_type\": \"\",\n        \"description\": \"\"\n      }\n    }\n  ]\n}"
            }
          },
          "metadata": {}
        },
        {
          "output_type": "stream",
          "name": "stdout",
          "text": [
            "<class 'pandas.core.frame.DataFrame'>\n",
            "RangeIndex: 1599 entries, 0 to 1598\n",
            "Data columns (total 12 columns):\n",
            " #   Column                Non-Null Count  Dtype  \n",
            "---  ------                --------------  -----  \n",
            " 0   fixed acidity         1599 non-null   float64\n",
            " 1   volatile acidity      1599 non-null   float64\n",
            " 2   citric acid           1599 non-null   float64\n",
            " 3   residual sugar        1599 non-null   float64\n",
            " 4   chlorides             1599 non-null   float64\n",
            " 5   free sulfur dioxide   1599 non-null   float64\n",
            " 6   total sulfur dioxide  1599 non-null   float64\n",
            " 7   density               1599 non-null   float64\n",
            " 8   pH                    1599 non-null   float64\n",
            " 9   sulphates             1599 non-null   float64\n",
            " 10  alcohol               1599 non-null   float64\n",
            " 11  quality               1599 non-null   int64  \n",
            "dtypes: float64(11), int64(1)\n",
            "memory usage: 150.0 KB\n"
          ]
        }
      ],
      "source": [
        "# this cell has been tagged with excluded_from_script\n",
        "# it will be ignored by the autograder\n",
        "display(df_wine.head())\n",
        "df_wine.info()"
      ]
    },
    {
      "cell_type": "markdown",
      "metadata": {
        "id": "JDp3Dq9OqCP9"
      },
      "source": [
        "Let's see the distribution of each input feature in the dataset."
      ]
    },
    {
      "cell_type": "code",
      "execution_count": null,
      "metadata": {
        "tags": [
          "excluded_from_script"
        ],
        "id": "S5NHEEJVqCP9",
        "colab": {
          "base_uri": "https://localhost:8080/",
          "height": 408
        },
        "outputId": "1d0c8dd8-d919-4cb6-d41c-6a97637718b6"
      },
      "outputs": [
        {
          "output_type": "display_data",
          "data": {
            "text/plain": [
              "<Figure size 1500x500 with 12 Axes>"
            ],
            "image/png": "[encoded data removed]"
          },
          "metadata": {}
        }
      ],
      "source": [
        "# this cell has been tagged with excluded_from_script\n",
        "# it will be ignored by the autograder\n",
        "df_features.hist(bins = 40, edgecolor = \"b\", figsize = (15, 5), xlabelsize = 10, ylabelsize = 10)\n",
        "plt.tight_layout(rect = (0, 0, 1.5, 1.5))"
      ]
    },
    {
      "cell_type": "markdown",
      "metadata": {
        "id": "f87pX1osqCP9"
      },
      "source": [
        "A quick observation is that the input variables are not on the same scale; for example, `alcohol` ranges from 0 to above 200, while `chlorides` can get up to 600. Recall from the primer that in this situation, we would need to normalize all the input feature columns before carrying out gradient descent.\n",
        "\n",
        "Now let's see the distribution of the output variable:"
      ]
    },
    {
      "cell_type": "code",
      "execution_count": null,
      "metadata": {
        "tags": [
          "excluded_from_script"
        ],
        "id": "Hg2BXSElqCP-",
        "colab": {
          "base_uri": "https://localhost:8080/",
          "height": 447
        },
        "outputId": "e73eb4f6-83e2-415b-b793-0dc3601a1217"
      },
      "outputs": [
        {
          "output_type": "execute_result",
          "data": {
            "text/plain": [
              "<Axes: >"
            ]
          },
          "metadata": {},
          "execution_count": 8
        },
        {
          "output_type": "display_data",
          "data": {
            "text/plain": [
              "<Figure size 640x480 with 1 Axes>"
            ],
            "image/png": "[encoded data removed]"
          },
          "metadata": {}
        }
      ],
      "source": [
        "# this cell has been tagged with excluded_from_script\n",
        "# it will be ignored by the autograder\n",
        "df_wine[\"quality\"].hist()"
      ]
    },
    {
      "cell_type": "markdown",
      "metadata": {
        "id": "gERpV7SmqCP-"
      },
      "source": [
        "We see that, despite the dataset description stating that `quality` can be from 0 to 10, this particular dataset only contains quality values from 3 to 8. Furthermore, there is a clear class imbalance, with the majority of quality scores being 5 or 6.\n",
        "\n",
        "Let's also look at the correlation matrix between each pair of variables:"
      ]
    },
    {
      "cell_type": "code",
      "execution_count": null,
      "metadata": {
        "tags": [
          "excluded_from_script"
        ],
        "id": "TI-j7WeTqCP-",
        "colab": {
          "base_uri": "https://localhost:8080/",
          "height": 661
        },
        "outputId": "f4b3f3c9-20f3-4f18-e7fc-aa9d105dadbc"
      },
      "outputs": [
        {
          "output_type": "execute_result",
          "data": {
            "text/plain": [
              "<Axes: >"
            ]
          },
          "metadata": {},
          "execution_count": 51
        },
        {
          "output_type": "display_data",
          "data": {
            "text/plain": [
              "<Figure size 1000x600 with 2 Axes>"
            ],
            "image/png": "[encoded data removed]"
          },
          "metadata": {}
        }
      ],
      "source": [
        "# this cell has been tagged with excluded_from_script\n",
        "# it will be ignored by the autograder\n",
        "corr = df_wine.corr()\n",
        "f, ax = plt.subplots(figsize = (10, 6))\n",
        "sns.heatmap(round(corr, 2), annot = True, ax = ax, fmt = \".2f\")"
      ]
    },
    {
      "cell_type": "markdown",
      "metadata": {
        "id": "7_VJs12YqCP-"
      },
      "source": [
        "The bottom row (or rightmost column) in this matrix shows the correlation between each input variable and the output quality. We see that `alcohol` has a fairly high correlation with the quality ($\\rho = 0.48$), compared to the other input features."
      ]
    },
    {
      "cell_type": "markdown",
      "metadata": {
        "id": "KvUCQpz7qCP-"
      },
      "source": [
        "### Question 9: Predicting wine quality with linear regression\n",
        "Let's now run a linear regression model to predict wine quality based on the provided input features. Implement the function `linear_regression_wine_quality` that performs the following steps:\n",
        "1. Do a single train-validate split with the given seed on the input data `X` and output data `y`, yielding `X_train, y_train, X_val, y_val`.\n",
        "1. Normalize `X_train` and `X_val` by inputting both into `normalize_data`.\n",
        "1. Train a linear regression model with the given hyperparameters on the training data `X_train, y_train`, yielding the list of training loss per iteration.\n",
        "1. Use the trained model to predict the output data based on `X_val`, and evaluate its mean squared error with respect to the ground truth `y_val`:\n",
        "\n",
        "$$\\text{MSE} = \\frac{1}{n} \\sum_{i=1}^n (h(x^{(i)}) - y^{(i)})^2.$$\n",
        "\n",
        "Note that we are evaluating error on the validation data, so there is no $\\lambda \\|\\theta\\|_2^2$ term in the error."
      ]
    },
    {
      "cell_type": "code",
      "source": [
        "def linear_regression_wine_quality(X, y, train_portion=0.8, seed=0, n_iters=1000, lam=1e-4, alpha=0.01):\n",
        "    \"\"\"\n",
        "    Train and evaluate a linear regression model for predicting wine quality, based on a single train-validate split.\n",
        "\n",
        "    Args:\n",
        "        X (np.array[n_samples, n_dimensions]): The input feature data.\n",
        "        y (np.array[n_samples]): The output data vector.\n",
        "\n",
        "    Kwargs:\n",
        "        train_portion (float): The portion of rows in X used for training, from 0 to 1.\n",
        "        seed (int): The random generator seed.\n",
        "        n_iters (int): The number of training iterations.\n",
        "        lam (float): The regularizer value.\n",
        "        alpha (float): The learning rate.\n",
        "\n",
        "    Returns:\n",
        "        Tuple(training_losses, validation_loss):\n",
        "            training_losses (List[float]): List containing the loss value before training and after each iteration.\n",
        "            validation_loss (float): Mean squared error between predicted and ground truth validation data.\n",
        "    \"\"\"\n",
        "\n",
        "    # 1. Train-validation split with a seed for reproducibility\n",
        "    np.random.seed(seed)\n",
        "    indices = np.random.permutation(len(X))\n",
        "    train_size = int(len(X) * train_portion)\n",
        "    train_indices = indices[:train_size]\n",
        "    val_indices = indices[train_size:]\n",
        "\n",
        "    X_train = X[train_indices]\n",
        "    y_train = y[train_indices]\n",
        "    X_val = X[val_indices]\n",
        "    y_val = y[val_indices]\n",
        "\n",
        "    # 2. Normalize using training data statistics\n",
        "    X_train, X_val = normalize_data(X_train, X_val)\n",
        "\n",
        "    # 3. Initialize and train the Linear Regression model\n",
        "    model = linear_regression(lam)\n",
        "    training_losses = model.fit(X_train, y_train, n_iters=n_iters, alpha=alpha)\n",
        "\n",
        "    # 4. Predict on the validation set\n",
        "    y_val_pred = model.predict(X_val)\n",
        "\n",
        "    # 5. Compute the validation loss (MSE, no regularization)\n",
        "    validation_loss = np.mean((y_val_pred - y_val) ** 2)\n",
        "\n",
        "    return training_losses, validation_loss\n"
      ],
      "metadata": {
        "id": "MIvTQfemAPEI"
      },
      "execution_count": null,
      "outputs": []
    },
    {
      "cell_type": "code",
      "execution_count": null,
      "metadata": {
        "tags": [
          "excluded_from_script"
        ],
        "id": "Mg8POCVrqCP_",
        "colab": {
          "base_uri": "https://localhost:8080/",
          "height": 489
        },
        "outputId": "7d5bf9c6-978c-4f2d-a7e8-6e6d02a91be7"
      },
      "outputs": [
        {
          "output_type": "stream",
          "name": "stdout",
          "text": [
            "All tests passed!\n"
          ]
        },
        {
          "output_type": "display_data",
          "data": {
            "text/plain": [
              "<Figure size 640x480 with 1 Axes>"
            ],
            "image/png": "[encoded data removed]"
          },
          "metadata": {}
        }
      ],
      "source": [
        "def test_linear_regression_wine_quality():\n",
        "    training_losses, validation_loss = linear_regression_wine_quality(X_wine, y_wine)\n",
        "    # print(training_losses[:10])\n",
        "    assert np.allclose(training_losses[:10],[\n",
        "        16.16340891321345, 15.844654398973274, 15.532296071529554, 15.226204605715468, 14.926253333115701,\n",
        "        14.632318185538022, 14.344277639784428, 14.062012663686984, 13.785406663374745, 13.514345431739175\n",
        "    ])\n",
        "    assert np.allclose(training_losses[-10:], [\n",
        "        0.21468696921929892, 0.2146866822438799, 0.21468639607119974, 0.21468611069787508, 0.21468582612054368,\n",
        "        0.21468554233586465, 0.21468525934051777, 0.21468497713120357, 0.21468469570464296, 0.21468441505757732\n",
        "    ])\n",
        "    assert np.allclose(validation_loss, 0.37078193362267553)\n",
        "    print(\"All tests passed!\")\n",
        "\n",
        "    plt.plot(np.arange(len(training_losses)), training_losses)\n",
        "    plt.title(\"MSE vs iteration # for linear regression\")\n",
        "    plt.xlabel(\"Iteration\")\n",
        "    plt.ylabel(\"MSE on training data\")\n",
        "\n",
        "test_linear_regression_wine_quality()"
      ]
    },
    {
      "cell_type": "markdown",
      "metadata": {
        "id": "t7uXYPtXqCP_"
      },
      "source": [
        "By plotting the list of training losses, we see that the MSE starts at around 16 but quickly drops down, and reaches close to 0 at around 200 iterations. On the other hand, the validation loss can likely be optimized further. It's also important to note that this validation loss may change if we use a different seed; as mentioned in the primer, this is one weakness of train-validate split, since we are at the mercy of the random split.\n",
        "\n",
        "While we can tune the hyperparameters (in this case $\\alpha, \\lambda$ and # of iterations) to improve this performance, let's take a step back and revisit the dataset. We note that the output column only contains integer values from 3 to 8, which seems a bit too constrained for linear regression (in fact, our problem is an instance of [ordinal regression](https://en.wikipedia.org/wiki/Ordinal_regression)). On the other hand, one may argue that predicting the exact wine rating is not necessary; we only need to know whether a wine with certain attributes is *good* or *bad*.\n",
        "\n",
        "For our purpose, let's define *bad* (coded as class 0) as having a quality score of at most 5, and *good* (coded as class 1) as having a quality score greater than 5. We now have a binary classification problem instead of a regression one:"
      ]
    },
    {
      "cell_type": "code",
      "execution_count": null,
      "metadata": {
        "id": "VT_xNK6FqCP_"
      },
      "outputs": [],
      "source": [
        "y_wine_binarized_lr = np.where(y_wine > 5, 1, 0)\n",
        "y_wine_binarized_svm = np.where(y_wine > 5, 1, -1)"
      ]
    },
    {
      "cell_type": "markdown",
      "metadata": {
        "id": "wfKsenwjqCP_"
      },
      "source": [
        "Let's see how many instances of each class we end up with:"
      ]
    },
    {
      "cell_type": "code",
      "execution_count": null,
      "metadata": {
        "tags": [
          "excluded_from_script"
        ],
        "id": "7boWEKbSqCP_",
        "colab": {
          "base_uri": "https://localhost:8080/"
        },
        "outputId": "a26bd60c-2bff-4f1d-9c1c-4e054068bdf3"
      },
      "outputs": [
        {
          "output_type": "execute_result",
          "data": {
            "text/plain": [
              "(array([0, 1]), array([744, 855]))"
            ]
          },
          "metadata": {},
          "execution_count": 34
        }
      ],
      "source": [
        "# this cell has been tagged with excluded_from_script\n",
        "# it will be ignored by the autograder\n",
        "np.unique(y_wine_binarized_lr, return_counts = True)"
      ]
    },
    {
      "cell_type": "markdown",
      "metadata": {
        "id": "SUTU2OWfqCP_"
      },
      "source": [
        "We see that the two classes are fairly balanced, with 744 instances of class 0 (bad wine) and 855 instances of class 1 (good wine)."
      ]
    },
    {
      "cell_type": "markdown",
      "metadata": {
        "id": "GTiniLiuqCP_"
      },
      "source": [
        "### Question 10: Classifying wine quality\n",
        "\n",
        "Let's now run our binary classifiers on this dataset. We will perform both model training and hyperparameter tuning together, using a train-test split followed by cross validation (see Section 4.2.3 of the primer for more details). Implement the function `classify_wine_quality` that performs the following steps:\n",
        "\n",
        "1. Split the input data and labels into a training set and a testing set, based on the provided `train_portion` and `seed`.\n",
        "1. Perform a k-fold split of the training set based on the provided `k` and `seed`.\n",
        "1. Loop through all possible pairs of $(\\alpha, \\lambda)$ and identify the pair $(\\alpha^*, \\lambda^*)$ that yields the best cross-validated accuracy on the validation folds (this is the mean of the `k` accuracy values when evaluating the trained models on the `k` validation folds). The particular classifier to use (logistic regression or SVM) is provided as a parameter. The lists of candidate $\\alpha$ and $\\lambda$ values to select from are also provided as parameters.\n",
        "1. Train a classifier model on the entire training set, with $(\\alpha^*, \\lambda^*)$ as the hyperparameters. Compute the accuracy of this model on the test set; this is the unbiased estimator of our model's generalization performance.\n",
        "1. Train a classifier model on the entire dataset, with $(\\alpha^*, \\lambda^*)$ as the hyperparameters, and return the trained model. This is the \"deployment model\" that we can use to predict unseen data.\n",
        "\n",
        "**Notes**:\n",
        "* The parameter `clf_builder` is a function, which is either `binary_lr_classifier` or `binary_svm_classifier`, which we implemented earlier. To create an instance of the classifier, you can call `clf_builder(lam)`, with an input `lam` value.\n",
        "* Remember to normalize the training and validation / testing data before calling `.fit`.\n",
        "* When evaluating a trained model on the validation or testing data, we will use accuracy as our metric. In particular, let $\\hat y \\in \\{0,1\\}^n$ be the vector of predicted labels (output from the `.predict` method) and $y \\in \\{0,1\\}^n$ be the ground truth label in the validation or test set, the accuracy is defined as\n",
        "$$\\text{Acc} = \\frac{1}{n} \\sum_{i=1}^n \\mathbb{1}(y^{(i)} = \\hat y^{(i)}).$$\n",
        "\n",
        "* If multiple pairs of $(\\alpha, \\lambda)$ yield the same (best) cross-validated accuracy, pick the one with the smaller $\\alpha$; if the $\\alpha$'s are the same, pick the one with the smaller $\\lambda$.\n",
        "* Typically for classification problems, we would use stratified split instead of random split, to ensure that the train and test sets have the same percentage of class labels. For simplicity, we will only use the random split that you implemented in `train_validate_split` and `kfold_split` here.\n",
        "* Make sure that you only normalize the data right before calling `.fit`, as you need to keep the validation data completely separate from the training data"
      ]
    },
    {
      "cell_type": "code",
      "source": [
        "def classify_wine_quality(X, y, clf_builder, train_portion, k, alpha_candidates, lambda_candidates, n_iters=100, seed=0):\n",
        "    \"\"\"\n",
        "    Train a binary classifier model with hyperparameter tuning.\n",
        "\n",
        "    args:\n",
        "        X (np.array[n_samples, n_dimensions]) : the input feature data\n",
        "        y (np.array[n_samples, dtype = np.int64]) : the output data vector\n",
        "        clf_builder (function) : either binary_lr_classifier or binary_svm_classifier\n",
        "        train_portion (float) : the portion of rows in X used for training, from 0 to 1\n",
        "        k (int) : the number of folds in k-fold cross validation\n",
        "        alpha_candidates (List[float]) : a list of candidate alpha values to consider\n",
        "        lambda_candidates (List[float]) : a list of candidate lambda values to consider\n",
        "\n",
        "    kwargs:\n",
        "        n_iters (int) : the number of training iterations for all calls to .fit\n",
        "        seed (int) : the random generator seed\n",
        "\n",
        "    return:\n",
        "        Tuple(best_alpha, best_lam, unbiased_acc, clf):\n",
        "            best_alpha (float) : the alpha value in the best hyperparameter setting\n",
        "            best_lam (float) : the lambda value in the best hyperparameter setting\n",
        "            unbiased_acc (float) : the accuracy when a classifier trained with the best hyperparams\n",
        "                on the entire training set is evaluated on the test set\n",
        "            clf (LRClassifier or SVMClassifier) : the fitted model after training on\n",
        "                the whole dataset with the best hyperparams\n",
        "    \"\"\"\n",
        "\n",
        "    def binary_lr_classifier(lam=1e-4):\n",
        "      return LRClassifier(lam)\n",
        "\n",
        "    def binary_svm_classifier(lam=1e-4):\n",
        "      return SVMClassifier(lam)\n",
        "\n",
        "    # 1. Train-test split\n",
        "    train_indices, test_indices = train_validate_split(X, train_portion, seed)\n",
        "    X_train, y_train = X[train_indices], y[train_indices]\n",
        "    X_test, y_test = X[test_indices], y[test_indices]\n",
        "\n",
        "    # 2. Cross-validation split within the training data\n",
        "    splits = kfold_split(X_train, k, seed)\n",
        "\n",
        "    best_alpha = None\n",
        "    best_lambda = None\n",
        "    best_accuracy = -1\n",
        "\n",
        "    # 3. Grid search over alpha and lambda candidates\n",
        "    for alpha in alpha_candidates:\n",
        "        for lam in lambda_candidates:\n",
        "            accuracies = []\n",
        "\n",
        "            for train_idx, val_idx in splits:\n",
        "                X_train_cv, y_train_cv = X_train[train_idx], y_train[train_idx]\n",
        "                X_val_cv, y_val_cv = X_train[val_idx], y_train[val_idx]\n",
        "\n",
        "                # Normalize data (separately for training and validation sets)\n",
        "                X_train_cv, X_val_cv = normalize_data(X_train_cv, X_val_cv)\n",
        "\n",
        "                # Initialize and train the classifier\n",
        "                clf = clf_builder(lam)\n",
        "                clf.fit(X_train_cv, y_train_cv, n_iters=n_iters, alpha=alpha)\n",
        "\n",
        "                # Validate and compute accuracy\n",
        "                y_val_pred = clf.predict(X_val_cv)\n",
        "                accuracy = np.mean(y_val_pred == y_val_cv)\n",
        "                accuracies.append(accuracy)\n",
        "\n",
        "            # Mean accuracy across all folds\n",
        "            mean_accuracy = np.mean(accuracies)\n",
        "\n",
        "            # Choose the best hyperparameters\n",
        "            if (mean_accuracy > best_accuracy or\n",
        "                (mean_accuracy == best_accuracy and (best_lambda is None or lam < best_lambda)) or\n",
        "                (mean_accuracy == best_accuracy and lam == best_lambda and alpha < best_alpha)):\n",
        "                best_accuracy = mean_accuracy\n",
        "                best_alpha = alpha\n",
        "                best_lambda = lam\n",
        "\n",
        "    # 4. Train the best model on the full training set\n",
        "    X_train_norm, X_test_norm = normalize_data(X_train, X_test)\n",
        "    best_clf = clf_builder(best_lambda)\n",
        "    best_clf.fit(X_train_norm, y_train, n_iters=n_iters, alpha=best_alpha)\n",
        "\n",
        "    # Evaluate on the test set\n",
        "    y_test_pred = best_clf.predict(X_test_norm)\n",
        "    unbiased_acc = np.mean(y_test_pred == y_test)\n",
        "\n",
        "    # 5. Train on the entire dataset for the final deployment model\n",
        "    X_norm, _ = normalize_data(X)\n",
        "    clf = clf_builder(best_lambda)\n",
        "    clf.fit(X_norm, y, n_iters=n_iters, alpha=best_alpha)\n",
        "\n",
        "    return best_alpha, best_lambda, unbiased_acc, clf\n"
      ],
      "metadata": {
        "id": "__aGoFPID6iy"
      },
      "execution_count": null,
      "outputs": []
    },
    {
      "cell_type": "code",
      "execution_count": null,
      "metadata": {
        "tags": [
          "excluded_from_script"
        ],
        "id": "MhrKWcQsqCP_",
        "colab": {
          "base_uri": "https://localhost:8080/"
        },
        "outputId": "7231c7c2-31a9-42be-d3d0-ab8986e96a01"
      },
      "outputs": [
        {
          "output_type": "stream",
          "name": "stdout",
          "text": [
            "All tests passed!\n"
          ]
        }
      ],
      "source": [
        "def test_classify_wine_quality():\n",
        "    alpha_candidates, lambda_candidates = [0.01, 0.1, 0, 1, 5], [1e-4, 1e-2, 0, 1, 5]\n",
        "\n",
        "    # logistic regression\n",
        "    best_alpha, best_lam, unbiased_acc, fitted_lr = classify_wine_quality(\n",
        "        X_wine, y_wine_binarized_lr, binary_lr_classifier, 0.8, 5,\n",
        "        alpha_candidates, lambda_candidates\n",
        "    )\n",
        "    theta, b = fitted_lr.get_params()\n",
        "    assert unbiased_acc == 0.734375\n",
        "    assert best_alpha == 1\n",
        "    assert best_lam == 1\n",
        "    assert np.allclose(theta, [\n",
        "        0.24270378, -0.54275055, -0.18055221,  0.09088647,\n",
        "        -0.19596458, 0.21928214, -0.53114866, -0.14740723,\n",
        "        -0.03296759,  0.47671029, 0.86840286\n",
        "    ])\n",
        "    assert np.allclose(b, 0.2397675985245648)\n",
        "\n",
        "    # support vector machine\n",
        "    best_alpha, best_lam, unbiased_acc, fitted_svm = classify_wine_quality(\n",
        "        X_wine, y_wine_binarized_svm, binary_svm_classifier, 0.8, 5,\n",
        "        alpha_candidates, lambda_candidates\n",
        "    )\n",
        "    theta, b = fitted_svm.get_params()\n",
        "    assert unbiased_acc == 0.728125\n",
        "    assert best_alpha == 1\n",
        "    assert best_lam == 0\n",
        "    assert np.allclose(theta,[\n",
        "        0.25536217, -0.48357185, -0.26178835,  0.09742388, -0.13234648,\n",
        "        0.15076227, -0.34814773, -0.06226067, -0.0448899 ,  0.3600738 ,\n",
        "        0.88433428\n",
        "    ])\n",
        "    assert np.allclose(b, 0.13664790494058782)\n",
        "    print(\"All tests passed!\")\n",
        "\n",
        "test_classify_wine_quality()"
      ]
    },
    {
      "cell_type": "markdown",
      "metadata": {
        "id": "283zfeNyqCP_"
      },
      "source": [
        "We see that the unbiased accuracies (evaluated on the test set) of our best hyperparameters are around 73% for both linear regression and support vector machine. It appears that logistic regression (with $\\alpha = 1, \\lambda = 1$) performs a bit better than SVM (with $\\alpha = 1, \\lambda = 0$) here. However, in order to formally compare the two models, we would need to run a nested cross-validation, as mentioned in the primer. Feel free to try it out on your own!\n",
        "\n",
        "You should now proceed to Part B of Project 4."
      ]
    }
  ],
  "metadata": {
    "celltoolbar": "Tags",
    "kernelspec": {
      "display_name": "Python 3",
      "language": "python",
      "name": "python3"
    },
    "language_info": {
      "codemirror_mode": {
        "name": "ipython",
        "version": 3
      },
      "file_extension": ".py",
      "mimetype": "text/x-python",
      "name": "python",
      "nbconvert_exporter": "python",
      "pygments_lexer": "ipython3",
      "version": "3.7.6"
    },
    "toc": {
      "base_numbering": 1,
      "nav_menu": {},
      "number_sections": true,
      "sideBar": true,
      "skip_h1_title": true,
      "title_cell": "Table of Contents",
      "title_sidebar": "Contents",
      "toc_cell": true,
      "toc_position": {},
      "toc_section_display": true,
      "toc_window_display": false
    },
    "colab": {
      "provenance": []
    }
  },
  "nbformat": 4,
  "nbformat_minor": 0
}